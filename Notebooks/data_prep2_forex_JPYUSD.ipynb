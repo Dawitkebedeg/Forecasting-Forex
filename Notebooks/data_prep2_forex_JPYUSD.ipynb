{
 "cells": [
  {
   "cell_type": "code",
   "execution_count": 1,
   "metadata": {},
   "outputs": [],
   "source": [
    "import pandas as pd"
   ]
  },
  {
   "cell_type": "code",
   "execution_count": 2,
   "metadata": {},
   "outputs": [],
   "source": [
    "jpyusd = pd.read_csv('../Data/Forex/JPYUSD.csv')"
   ]
  },
  {
   "cell_type": "code",
   "execution_count": 3,
   "metadata": {},
   "outputs": [
    {
     "data": {
      "text/html": [
       "<div>\n",
       "<style scoped>\n",
       "    .dataframe tbody tr th:only-of-type {\n",
       "        vertical-align: middle;\n",
       "    }\n",
       "\n",
       "    .dataframe tbody tr th {\n",
       "        vertical-align: top;\n",
       "    }\n",
       "\n",
       "    .dataframe thead th {\n",
       "        text-align: right;\n",
       "    }\n",
       "</style>\n",
       "<table border=\"1\" class=\"dataframe\">\n",
       "  <thead>\n",
       "    <tr style=\"text-align: right;\">\n",
       "      <th></th>\n",
       "      <th>Date</th>\n",
       "      <th>Open</th>\n",
       "      <th>High</th>\n",
       "      <th>Low</th>\n",
       "      <th>Close</th>\n",
       "      <th>Adj Close</th>\n",
       "      <th>Volume</th>\n",
       "    </tr>\n",
       "  </thead>\n",
       "  <tbody>\n",
       "    <tr>\n",
       "      <th>0</th>\n",
       "      <td>2005-01-03</td>\n",
       "      <td>102.519997</td>\n",
       "      <td>103.430000</td>\n",
       "      <td>102.349998</td>\n",
       "      <td>102.739998</td>\n",
       "      <td>102.739998</td>\n",
       "      <td>0.0</td>\n",
       "    </tr>\n",
       "    <tr>\n",
       "      <th>1</th>\n",
       "      <td>2005-01-04</td>\n",
       "      <td>102.730003</td>\n",
       "      <td>104.739998</td>\n",
       "      <td>102.459999</td>\n",
       "      <td>104.339996</td>\n",
       "      <td>104.339996</td>\n",
       "      <td>0.0</td>\n",
       "    </tr>\n",
       "    <tr>\n",
       "      <th>2</th>\n",
       "      <td>2005-01-05</td>\n",
       "      <td>104.330002</td>\n",
       "      <td>104.970001</td>\n",
       "      <td>103.769997</td>\n",
       "      <td>103.930000</td>\n",
       "      <td>103.930000</td>\n",
       "      <td>0.0</td>\n",
       "    </tr>\n",
       "    <tr>\n",
       "      <th>3</th>\n",
       "      <td>2005-01-06</td>\n",
       "      <td>103.959999</td>\n",
       "      <td>105.129997</td>\n",
       "      <td>103.959999</td>\n",
       "      <td>104.889999</td>\n",
       "      <td>104.889999</td>\n",
       "      <td>0.0</td>\n",
       "    </tr>\n",
       "    <tr>\n",
       "      <th>4</th>\n",
       "      <td>2005-01-07</td>\n",
       "      <td>104.870003</td>\n",
       "      <td>105.110001</td>\n",
       "      <td>103.889999</td>\n",
       "      <td>104.889999</td>\n",
       "      <td>104.889999</td>\n",
       "      <td>0.0</td>\n",
       "    </tr>\n",
       "  </tbody>\n",
       "</table>\n",
       "</div>"
      ],
      "text/plain": [
       "         Date        Open        High         Low       Close   Adj Close  \\\n",
       "0  2005-01-03  102.519997  103.430000  102.349998  102.739998  102.739998   \n",
       "1  2005-01-04  102.730003  104.739998  102.459999  104.339996  104.339996   \n",
       "2  2005-01-05  104.330002  104.970001  103.769997  103.930000  103.930000   \n",
       "3  2005-01-06  103.959999  105.129997  103.959999  104.889999  104.889999   \n",
       "4  2005-01-07  104.870003  105.110001  103.889999  104.889999  104.889999   \n",
       "\n",
       "   Volume  \n",
       "0     0.0  \n",
       "1     0.0  \n",
       "2     0.0  \n",
       "3     0.0  \n",
       "4     0.0  "
      ]
     },
     "execution_count": 3,
     "metadata": {},
     "output_type": "execute_result"
    }
   ],
   "source": [
    "jpyusd.head()"
   ]
  },
  {
   "cell_type": "code",
   "execution_count": 4,
   "metadata": {},
   "outputs": [
    {
     "data": {
      "text/plain": [
       "(4825, 7)"
      ]
     },
     "execution_count": 4,
     "metadata": {},
     "output_type": "execute_result"
    }
   ],
   "source": [
    "jpyusd.shape"
   ]
  },
  {
   "cell_type": "code",
   "execution_count": 5,
   "metadata": {},
   "outputs": [
    {
     "data": {
      "text/html": [
       "<div>\n",
       "<style scoped>\n",
       "    .dataframe tbody tr th:only-of-type {\n",
       "        vertical-align: middle;\n",
       "    }\n",
       "\n",
       "    .dataframe tbody tr th {\n",
       "        vertical-align: top;\n",
       "    }\n",
       "\n",
       "    .dataframe thead th {\n",
       "        text-align: right;\n",
       "    }\n",
       "</style>\n",
       "<table border=\"1\" class=\"dataframe\">\n",
       "  <thead>\n",
       "    <tr style=\"text-align: right;\">\n",
       "      <th></th>\n",
       "      <th>Date</th>\n",
       "      <th>Open</th>\n",
       "      <th>High</th>\n",
       "      <th>Low</th>\n",
       "      <th>Close</th>\n",
       "      <th>Adj Close</th>\n",
       "      <th>Volume</th>\n",
       "    </tr>\n",
       "  </thead>\n",
       "  <tbody>\n",
       "    <tr>\n",
       "      <th>4820</th>\n",
       "      <td>2023-06-26</td>\n",
       "      <td>143.541000</td>\n",
       "      <td>143.682007</td>\n",
       "      <td>142.973007</td>\n",
       "      <td>143.541000</td>\n",
       "      <td>143.541000</td>\n",
       "      <td>0.0</td>\n",
       "    </tr>\n",
       "    <tr>\n",
       "      <th>4821</th>\n",
       "      <td>2023-06-27</td>\n",
       "      <td>143.460007</td>\n",
       "      <td>144.162994</td>\n",
       "      <td>143.292007</td>\n",
       "      <td>143.460007</td>\n",
       "      <td>143.460007</td>\n",
       "      <td>0.0</td>\n",
       "    </tr>\n",
       "    <tr>\n",
       "      <th>4822</th>\n",
       "      <td>2023-06-28</td>\n",
       "      <td>143.882004</td>\n",
       "      <td>144.595001</td>\n",
       "      <td>143.735992</td>\n",
       "      <td>143.882004</td>\n",
       "      <td>143.882004</td>\n",
       "      <td>0.0</td>\n",
       "    </tr>\n",
       "    <tr>\n",
       "      <th>4823</th>\n",
       "      <td>2023-06-29</td>\n",
       "      <td>144.389008</td>\n",
       "      <td>144.891998</td>\n",
       "      <td>144.138000</td>\n",
       "      <td>144.389008</td>\n",
       "      <td>144.389008</td>\n",
       "      <td>0.0</td>\n",
       "    </tr>\n",
       "    <tr>\n",
       "      <th>4824</th>\n",
       "      <td>2023-06-30</td>\n",
       "      <td>144.779999</td>\n",
       "      <td>145.033005</td>\n",
       "      <td>144.227997</td>\n",
       "      <td>144.779999</td>\n",
       "      <td>144.779999</td>\n",
       "      <td>0.0</td>\n",
       "    </tr>\n",
       "  </tbody>\n",
       "</table>\n",
       "</div>"
      ],
      "text/plain": [
       "            Date        Open        High         Low       Close   Adj Close  \\\n",
       "4820  2023-06-26  143.541000  143.682007  142.973007  143.541000  143.541000   \n",
       "4821  2023-06-27  143.460007  144.162994  143.292007  143.460007  143.460007   \n",
       "4822  2023-06-28  143.882004  144.595001  143.735992  143.882004  143.882004   \n",
       "4823  2023-06-29  144.389008  144.891998  144.138000  144.389008  144.389008   \n",
       "4824  2023-06-30  144.779999  145.033005  144.227997  144.779999  144.779999   \n",
       "\n",
       "      Volume  \n",
       "4820     0.0  \n",
       "4821     0.0  \n",
       "4822     0.0  \n",
       "4823     0.0  \n",
       "4824     0.0  "
      ]
     },
     "execution_count": 5,
     "metadata": {},
     "output_type": "execute_result"
    }
   ],
   "source": [
    "jpyusd.tail()"
   ]
  },
  {
   "cell_type": "markdown",
   "metadata": {},
   "source": [
    "Dropping Volume"
   ]
  },
  {
   "cell_type": "code",
   "execution_count": 6,
   "metadata": {},
   "outputs": [],
   "source": [
    "jpyusd = jpyusd[[\"Date\",\"Open\",\"High\",\"Low\",\"Close\", \"Adj Close\"]]"
   ]
  },
  {
   "cell_type": "markdown",
   "metadata": {},
   "source": [
    "Checking if there are missing values"
   ]
  },
  {
   "cell_type": "code",
   "execution_count": 7,
   "metadata": {},
   "outputs": [
    {
     "data": {
      "text/plain": [
       "(28, 6)"
      ]
     },
     "execution_count": 7,
     "metadata": {},
     "output_type": "execute_result"
    }
   ],
   "source": [
    "nan_mask = pd.isna(jpyusd).any(axis=1)\n",
    "\n",
    "nan_values_df = jpyusd[nan_mask]\n",
    "nan_values_df.shape"
   ]
  },
  {
   "cell_type": "markdown",
   "metadata": {},
   "source": [
    "Filling missing values with interpolate technique"
   ]
  },
  {
   "cell_type": "code",
   "execution_count": 8,
   "metadata": {},
   "outputs": [],
   "source": [
    "jpyusd= jpyusd.interpolate(option='time')"
   ]
  },
  {
   "cell_type": "code",
   "execution_count": 9,
   "metadata": {},
   "outputs": [
    {
     "name": "stdout",
     "output_type": "stream",
     "text": [
      "<class 'pandas.core.frame.DataFrame'>\n",
      "RangeIndex: 4825 entries, 0 to 4824\n",
      "Data columns (total 6 columns):\n",
      " #   Column     Non-Null Count  Dtype  \n",
      "---  ------     --------------  -----  \n",
      " 0   Date       4825 non-null   object \n",
      " 1   Open       4825 non-null   float64\n",
      " 2   High       4825 non-null   float64\n",
      " 3   Low        4825 non-null   float64\n",
      " 4   Close      4825 non-null   float64\n",
      " 5   Adj Close  4825 non-null   float64\n",
      "dtypes: float64(5), object(1)\n",
      "memory usage: 226.3+ KB\n"
     ]
    }
   ],
   "source": [
    "jpyusd.info()"
   ]
  },
  {
   "cell_type": "markdown",
   "metadata": {},
   "source": [
    "Set Date as index"
   ]
  },
  {
   "cell_type": "code",
   "execution_count": 10,
   "metadata": {},
   "outputs": [],
   "source": [
    "jpyusd.Date = pd.to_datetime(jpyusd.Date)"
   ]
  },
  {
   "cell_type": "code",
   "execution_count": 11,
   "metadata": {},
   "outputs": [],
   "source": [
    "jpyusd = jpyusd.set_index(\"Date\")"
   ]
  },
  {
   "cell_type": "code",
   "execution_count": 12,
   "metadata": {},
   "outputs": [
    {
     "data": {
      "text/plain": [
       "DatetimeIndex(['2005-01-03', '2005-01-04', '2005-01-05', '2005-01-06',\n",
       "               '2005-01-07', '2005-01-10', '2005-01-11', '2005-01-12',\n",
       "               '2005-01-13', '2005-01-14',\n",
       "               ...\n",
       "               '2023-06-19', '2023-06-20', '2023-06-21', '2023-06-22',\n",
       "               '2023-06-23', '2023-06-26', '2023-06-27', '2023-06-28',\n",
       "               '2023-06-29', '2023-06-30'],\n",
       "              dtype='datetime64[ns]', name='Date', length=4825, freq=None)"
      ]
     },
     "execution_count": 12,
     "metadata": {},
     "output_type": "execute_result"
    }
   ],
   "source": [
    "jpyusd.index"
   ]
  },
  {
   "cell_type": "code",
   "execution_count": 13,
   "metadata": {},
   "outputs": [
    {
     "data": {
      "text/html": [
       "<div>\n",
       "<style scoped>\n",
       "    .dataframe tbody tr th:only-of-type {\n",
       "        vertical-align: middle;\n",
       "    }\n",
       "\n",
       "    .dataframe tbody tr th {\n",
       "        vertical-align: top;\n",
       "    }\n",
       "\n",
       "    .dataframe thead th {\n",
       "        text-align: right;\n",
       "    }\n",
       "</style>\n",
       "<table border=\"1\" class=\"dataframe\">\n",
       "  <thead>\n",
       "    <tr style=\"text-align: right;\">\n",
       "      <th></th>\n",
       "      <th>Open</th>\n",
       "      <th>High</th>\n",
       "      <th>Low</th>\n",
       "      <th>Close</th>\n",
       "      <th>Adj Close</th>\n",
       "    </tr>\n",
       "    <tr>\n",
       "      <th>Date</th>\n",
       "      <th></th>\n",
       "      <th></th>\n",
       "      <th></th>\n",
       "      <th></th>\n",
       "      <th></th>\n",
       "    </tr>\n",
       "  </thead>\n",
       "  <tbody>\n",
       "    <tr>\n",
       "      <th>2005-01-03</th>\n",
       "      <td>102.519997</td>\n",
       "      <td>103.430000</td>\n",
       "      <td>102.349998</td>\n",
       "      <td>102.739998</td>\n",
       "      <td>102.739998</td>\n",
       "    </tr>\n",
       "    <tr>\n",
       "      <th>2005-01-04</th>\n",
       "      <td>102.730003</td>\n",
       "      <td>104.739998</td>\n",
       "      <td>102.459999</td>\n",
       "      <td>104.339996</td>\n",
       "      <td>104.339996</td>\n",
       "    </tr>\n",
       "    <tr>\n",
       "      <th>2005-01-05</th>\n",
       "      <td>104.330002</td>\n",
       "      <td>104.970001</td>\n",
       "      <td>103.769997</td>\n",
       "      <td>103.930000</td>\n",
       "      <td>103.930000</td>\n",
       "    </tr>\n",
       "    <tr>\n",
       "      <th>2005-01-06</th>\n",
       "      <td>103.959999</td>\n",
       "      <td>105.129997</td>\n",
       "      <td>103.959999</td>\n",
       "      <td>104.889999</td>\n",
       "      <td>104.889999</td>\n",
       "    </tr>\n",
       "    <tr>\n",
       "      <th>2005-01-07</th>\n",
       "      <td>104.870003</td>\n",
       "      <td>105.110001</td>\n",
       "      <td>103.889999</td>\n",
       "      <td>104.889999</td>\n",
       "      <td>104.889999</td>\n",
       "    </tr>\n",
       "  </tbody>\n",
       "</table>\n",
       "</div>"
      ],
      "text/plain": [
       "                  Open        High         Low       Close   Adj Close\n",
       "Date                                                                  \n",
       "2005-01-03  102.519997  103.430000  102.349998  102.739998  102.739998\n",
       "2005-01-04  102.730003  104.739998  102.459999  104.339996  104.339996\n",
       "2005-01-05  104.330002  104.970001  103.769997  103.930000  103.930000\n",
       "2005-01-06  103.959999  105.129997  103.959999  104.889999  104.889999\n",
       "2005-01-07  104.870003  105.110001  103.889999  104.889999  104.889999"
      ]
     },
     "execution_count": 13,
     "metadata": {},
     "output_type": "execute_result"
    }
   ],
   "source": [
    "jpyusd.head()"
   ]
  },
  {
   "cell_type": "code",
   "execution_count": 14,
   "metadata": {},
   "outputs": [
    {
     "data": {
      "text/html": [
       "<div>\n",
       "<style scoped>\n",
       "    .dataframe tbody tr th:only-of-type {\n",
       "        vertical-align: middle;\n",
       "    }\n",
       "\n",
       "    .dataframe tbody tr th {\n",
       "        vertical-align: top;\n",
       "    }\n",
       "\n",
       "    .dataframe thead th {\n",
       "        text-align: right;\n",
       "    }\n",
       "</style>\n",
       "<table border=\"1\" class=\"dataframe\">\n",
       "  <thead>\n",
       "    <tr style=\"text-align: right;\">\n",
       "      <th></th>\n",
       "      <th>Open</th>\n",
       "      <th>High</th>\n",
       "      <th>Low</th>\n",
       "      <th>Close</th>\n",
       "      <th>Adj Close</th>\n",
       "    </tr>\n",
       "    <tr>\n",
       "      <th>Date</th>\n",
       "      <th></th>\n",
       "      <th></th>\n",
       "      <th></th>\n",
       "      <th></th>\n",
       "      <th></th>\n",
       "    </tr>\n",
       "  </thead>\n",
       "  <tbody>\n",
       "    <tr>\n",
       "      <th>2023-06-26</th>\n",
       "      <td>143.541000</td>\n",
       "      <td>143.682007</td>\n",
       "      <td>142.973007</td>\n",
       "      <td>143.541000</td>\n",
       "      <td>143.541000</td>\n",
       "    </tr>\n",
       "    <tr>\n",
       "      <th>2023-06-27</th>\n",
       "      <td>143.460007</td>\n",
       "      <td>144.162994</td>\n",
       "      <td>143.292007</td>\n",
       "      <td>143.460007</td>\n",
       "      <td>143.460007</td>\n",
       "    </tr>\n",
       "    <tr>\n",
       "      <th>2023-06-28</th>\n",
       "      <td>143.882004</td>\n",
       "      <td>144.595001</td>\n",
       "      <td>143.735992</td>\n",
       "      <td>143.882004</td>\n",
       "      <td>143.882004</td>\n",
       "    </tr>\n",
       "    <tr>\n",
       "      <th>2023-06-29</th>\n",
       "      <td>144.389008</td>\n",
       "      <td>144.891998</td>\n",
       "      <td>144.138000</td>\n",
       "      <td>144.389008</td>\n",
       "      <td>144.389008</td>\n",
       "    </tr>\n",
       "    <tr>\n",
       "      <th>2023-06-30</th>\n",
       "      <td>144.779999</td>\n",
       "      <td>145.033005</td>\n",
       "      <td>144.227997</td>\n",
       "      <td>144.779999</td>\n",
       "      <td>144.779999</td>\n",
       "    </tr>\n",
       "  </tbody>\n",
       "</table>\n",
       "</div>"
      ],
      "text/plain": [
       "                  Open        High         Low       Close   Adj Close\n",
       "Date                                                                  \n",
       "2023-06-26  143.541000  143.682007  142.973007  143.541000  143.541000\n",
       "2023-06-27  143.460007  144.162994  143.292007  143.460007  143.460007\n",
       "2023-06-28  143.882004  144.595001  143.735992  143.882004  143.882004\n",
       "2023-06-29  144.389008  144.891998  144.138000  144.389008  144.389008\n",
       "2023-06-30  144.779999  145.033005  144.227997  144.779999  144.779999"
      ]
     },
     "execution_count": 14,
     "metadata": {},
     "output_type": "execute_result"
    }
   ],
   "source": [
    "jpyusd.tail()"
   ]
  },
  {
   "cell_type": "code",
   "execution_count": 15,
   "metadata": {},
   "outputs": [],
   "source": [
    "missing_dates  = pd.date_range(\n",
    "  start=\"2005-02-22\", end=\"2023-06-30\").difference(jpyusd.index)"
   ]
  },
  {
   "cell_type": "code",
   "execution_count": 16,
   "metadata": {},
   "outputs": [
    {
     "data": {
      "text/plain": [
       "DatetimeIndex(['2005-02-26', '2005-02-27', '2005-03-05', '2005-03-06',\n",
       "               '2005-03-12', '2005-03-13', '2005-03-19', '2005-03-20',\n",
       "               '2005-03-26', '2005-03-27',\n",
       "               ...\n",
       "               '2023-05-27', '2023-05-28', '2023-06-03', '2023-06-04',\n",
       "               '2023-06-10', '2023-06-11', '2023-06-17', '2023-06-18',\n",
       "               '2023-06-24', '2023-06-25'],\n",
       "              dtype='datetime64[ns]', length=1914, freq=None)"
      ]
     },
     "execution_count": 16,
     "metadata": {},
     "output_type": "execute_result"
    }
   ],
   "source": [
    "missing_dates"
   ]
  },
  {
   "cell_type": "markdown",
   "metadata": {},
   "source": [
    "Filling the missing dates"
   ]
  },
  {
   "cell_type": "code",
   "execution_count": 17,
   "metadata": {},
   "outputs": [],
   "source": [
    "complete_date_range =  pd.date_range(start='2005-01-03', end='2023-06-30', freq='D')"
   ]
  },
  {
   "cell_type": "code",
   "execution_count": 18,
   "metadata": {},
   "outputs": [],
   "source": [
    "complete_forex_data = pd.DataFrame(index=complete_date_range)"
   ]
  },
  {
   "cell_type": "code",
   "execution_count": 19,
   "metadata": {},
   "outputs": [],
   "source": [
    "complete_forex_data = complete_forex_data.merge(jpyusd, left_index=True, right_index=True, how='left')"
   ]
  },
  {
   "cell_type": "code",
   "execution_count": 20,
   "metadata": {},
   "outputs": [
    {
     "data": {
      "text/html": [
       "<div>\n",
       "<style scoped>\n",
       "    .dataframe tbody tr th:only-of-type {\n",
       "        vertical-align: middle;\n",
       "    }\n",
       "\n",
       "    .dataframe tbody tr th {\n",
       "        vertical-align: top;\n",
       "    }\n",
       "\n",
       "    .dataframe thead th {\n",
       "        text-align: right;\n",
       "    }\n",
       "</style>\n",
       "<table border=\"1\" class=\"dataframe\">\n",
       "  <thead>\n",
       "    <tr style=\"text-align: right;\">\n",
       "      <th></th>\n",
       "      <th>Open</th>\n",
       "      <th>High</th>\n",
       "      <th>Low</th>\n",
       "      <th>Close</th>\n",
       "      <th>Adj Close</th>\n",
       "    </tr>\n",
       "  </thead>\n",
       "  <tbody>\n",
       "    <tr>\n",
       "      <th>2005-01-03</th>\n",
       "      <td>102.519997</td>\n",
       "      <td>103.430000</td>\n",
       "      <td>102.349998</td>\n",
       "      <td>102.739998</td>\n",
       "      <td>102.739998</td>\n",
       "    </tr>\n",
       "    <tr>\n",
       "      <th>2005-01-04</th>\n",
       "      <td>102.730003</td>\n",
       "      <td>104.739998</td>\n",
       "      <td>102.459999</td>\n",
       "      <td>104.339996</td>\n",
       "      <td>104.339996</td>\n",
       "    </tr>\n",
       "    <tr>\n",
       "      <th>2005-01-05</th>\n",
       "      <td>104.330002</td>\n",
       "      <td>104.970001</td>\n",
       "      <td>103.769997</td>\n",
       "      <td>103.930000</td>\n",
       "      <td>103.930000</td>\n",
       "    </tr>\n",
       "    <tr>\n",
       "      <th>2005-01-06</th>\n",
       "      <td>103.959999</td>\n",
       "      <td>105.129997</td>\n",
       "      <td>103.959999</td>\n",
       "      <td>104.889999</td>\n",
       "      <td>104.889999</td>\n",
       "    </tr>\n",
       "    <tr>\n",
       "      <th>2005-01-07</th>\n",
       "      <td>104.870003</td>\n",
       "      <td>105.110001</td>\n",
       "      <td>103.889999</td>\n",
       "      <td>104.889999</td>\n",
       "      <td>104.889999</td>\n",
       "    </tr>\n",
       "    <tr>\n",
       "      <th>2005-01-08</th>\n",
       "      <td>NaN</td>\n",
       "      <td>NaN</td>\n",
       "      <td>NaN</td>\n",
       "      <td>NaN</td>\n",
       "      <td>NaN</td>\n",
       "    </tr>\n",
       "    <tr>\n",
       "      <th>2005-01-09</th>\n",
       "      <td>NaN</td>\n",
       "      <td>NaN</td>\n",
       "      <td>NaN</td>\n",
       "      <td>NaN</td>\n",
       "      <td>NaN</td>\n",
       "    </tr>\n",
       "    <tr>\n",
       "      <th>2005-01-10</th>\n",
       "      <td>104.680000</td>\n",
       "      <td>104.800003</td>\n",
       "      <td>104.070000</td>\n",
       "      <td>104.169998</td>\n",
       "      <td>104.169998</td>\n",
       "    </tr>\n",
       "    <tr>\n",
       "      <th>2005-01-11</th>\n",
       "      <td>104.180000</td>\n",
       "      <td>104.260002</td>\n",
       "      <td>103.120003</td>\n",
       "      <td>103.419998</td>\n",
       "      <td>103.419998</td>\n",
       "    </tr>\n",
       "    <tr>\n",
       "      <th>2005-01-12</th>\n",
       "      <td>103.419998</td>\n",
       "      <td>103.529999</td>\n",
       "      <td>102.180000</td>\n",
       "      <td>102.440002</td>\n",
       "      <td>102.440002</td>\n",
       "    </tr>\n",
       "  </tbody>\n",
       "</table>\n",
       "</div>"
      ],
      "text/plain": [
       "                  Open        High         Low       Close   Adj Close\n",
       "2005-01-03  102.519997  103.430000  102.349998  102.739998  102.739998\n",
       "2005-01-04  102.730003  104.739998  102.459999  104.339996  104.339996\n",
       "2005-01-05  104.330002  104.970001  103.769997  103.930000  103.930000\n",
       "2005-01-06  103.959999  105.129997  103.959999  104.889999  104.889999\n",
       "2005-01-07  104.870003  105.110001  103.889999  104.889999  104.889999\n",
       "2005-01-08         NaN         NaN         NaN         NaN         NaN\n",
       "2005-01-09         NaN         NaN         NaN         NaN         NaN\n",
       "2005-01-10  104.680000  104.800003  104.070000  104.169998  104.169998\n",
       "2005-01-11  104.180000  104.260002  103.120003  103.419998  103.419998\n",
       "2005-01-12  103.419998  103.529999  102.180000  102.440002  102.440002"
      ]
     },
     "execution_count": 20,
     "metadata": {},
     "output_type": "execute_result"
    }
   ],
   "source": [
    "complete_forex_data.head(10)"
   ]
  },
  {
   "cell_type": "code",
   "execution_count": 21,
   "metadata": {},
   "outputs": [],
   "source": [
    "# Reset the index and rename the 'forex_rate' column if needed\n",
    "complete_forex_data.reset_index(inplace=True)\n",
    "complete_forex_data.rename(columns={'index': 'Date'}, inplace=True)"
   ]
  },
  {
   "cell_type": "code",
   "execution_count": 22,
   "metadata": {},
   "outputs": [
    {
     "data": {
      "text/html": [
       "<div>\n",
       "<style scoped>\n",
       "    .dataframe tbody tr th:only-of-type {\n",
       "        vertical-align: middle;\n",
       "    }\n",
       "\n",
       "    .dataframe tbody tr th {\n",
       "        vertical-align: top;\n",
       "    }\n",
       "\n",
       "    .dataframe thead th {\n",
       "        text-align: right;\n",
       "    }\n",
       "</style>\n",
       "<table border=\"1\" class=\"dataframe\">\n",
       "  <thead>\n",
       "    <tr style=\"text-align: right;\">\n",
       "      <th></th>\n",
       "      <th>Date</th>\n",
       "      <th>Open</th>\n",
       "      <th>High</th>\n",
       "      <th>Low</th>\n",
       "      <th>Close</th>\n",
       "      <th>Adj Close</th>\n",
       "    </tr>\n",
       "  </thead>\n",
       "  <tbody>\n",
       "    <tr>\n",
       "      <th>0</th>\n",
       "      <td>2005-01-03</td>\n",
       "      <td>102.519997</td>\n",
       "      <td>103.430000</td>\n",
       "      <td>102.349998</td>\n",
       "      <td>102.739998</td>\n",
       "      <td>102.739998</td>\n",
       "    </tr>\n",
       "    <tr>\n",
       "      <th>1</th>\n",
       "      <td>2005-01-04</td>\n",
       "      <td>102.730003</td>\n",
       "      <td>104.739998</td>\n",
       "      <td>102.459999</td>\n",
       "      <td>104.339996</td>\n",
       "      <td>104.339996</td>\n",
       "    </tr>\n",
       "    <tr>\n",
       "      <th>2</th>\n",
       "      <td>2005-01-05</td>\n",
       "      <td>104.330002</td>\n",
       "      <td>104.970001</td>\n",
       "      <td>103.769997</td>\n",
       "      <td>103.930000</td>\n",
       "      <td>103.930000</td>\n",
       "    </tr>\n",
       "    <tr>\n",
       "      <th>3</th>\n",
       "      <td>2005-01-06</td>\n",
       "      <td>103.959999</td>\n",
       "      <td>105.129997</td>\n",
       "      <td>103.959999</td>\n",
       "      <td>104.889999</td>\n",
       "      <td>104.889999</td>\n",
       "    </tr>\n",
       "    <tr>\n",
       "      <th>4</th>\n",
       "      <td>2005-01-07</td>\n",
       "      <td>104.870003</td>\n",
       "      <td>105.110001</td>\n",
       "      <td>103.889999</td>\n",
       "      <td>104.889999</td>\n",
       "      <td>104.889999</td>\n",
       "    </tr>\n",
       "  </tbody>\n",
       "</table>\n",
       "</div>"
      ],
      "text/plain": [
       "        Date        Open        High         Low       Close   Adj Close\n",
       "0 2005-01-03  102.519997  103.430000  102.349998  102.739998  102.739998\n",
       "1 2005-01-04  102.730003  104.739998  102.459999  104.339996  104.339996\n",
       "2 2005-01-05  104.330002  104.970001  103.769997  103.930000  103.930000\n",
       "3 2005-01-06  103.959999  105.129997  103.959999  104.889999  104.889999\n",
       "4 2005-01-07  104.870003  105.110001  103.889999  104.889999  104.889999"
      ]
     },
     "execution_count": 22,
     "metadata": {},
     "output_type": "execute_result"
    }
   ],
   "source": [
    "complete_forex_data.head()"
   ]
  },
  {
   "cell_type": "code",
   "execution_count": 23,
   "metadata": {},
   "outputs": [],
   "source": [
    "complete_forex_data.set_index('Date', inplace=True)"
   ]
  },
  {
   "cell_type": "code",
   "execution_count": 24,
   "metadata": {},
   "outputs": [
    {
     "data": {
      "text/plain": [
       "DatetimeIndex(['2005-01-03', '2005-01-04', '2005-01-05', '2005-01-06',\n",
       "               '2005-01-07', '2005-01-08', '2005-01-09', '2005-01-10',\n",
       "               '2005-01-11', '2005-01-12',\n",
       "               ...\n",
       "               '2023-06-21', '2023-06-22', '2023-06-23', '2023-06-24',\n",
       "               '2023-06-25', '2023-06-26', '2023-06-27', '2023-06-28',\n",
       "               '2023-06-29', '2023-06-30'],\n",
       "              dtype='datetime64[ns]', name='Date', length=6753, freq=None)"
      ]
     },
     "execution_count": 24,
     "metadata": {},
     "output_type": "execute_result"
    }
   ],
   "source": [
    "complete_forex_data.index"
   ]
  },
  {
   "cell_type": "markdown",
   "metadata": {},
   "source": [
    "The new dates have no values. Saturdays and Holidays take the value of the previos date (backward filling). Sundays take the values of the next date (forward filling)."
   ]
  },
  {
   "cell_type": "code",
   "execution_count": 25,
   "metadata": {},
   "outputs": [],
   "source": [
    "\n",
    "# Forward fill (ffill) for Saturdays\n",
    "complete_forex_data = complete_forex_data.fillna(method='ffill', limit=1)\n",
    "\n",
    "# Backward fill (bfill) for Sundays\n",
    "complete_forex_data = complete_forex_data.fillna(method='bfill', limit=1)\n"
   ]
  },
  {
   "cell_type": "code",
   "execution_count": 26,
   "metadata": {},
   "outputs": [
    {
     "data": {
      "text/html": [
       "<div>\n",
       "<style scoped>\n",
       "    .dataframe tbody tr th:only-of-type {\n",
       "        vertical-align: middle;\n",
       "    }\n",
       "\n",
       "    .dataframe tbody tr th {\n",
       "        vertical-align: top;\n",
       "    }\n",
       "\n",
       "    .dataframe thead th {\n",
       "        text-align: right;\n",
       "    }\n",
       "</style>\n",
       "<table border=\"1\" class=\"dataframe\">\n",
       "  <thead>\n",
       "    <tr style=\"text-align: right;\">\n",
       "      <th></th>\n",
       "      <th>Open</th>\n",
       "      <th>High</th>\n",
       "      <th>Low</th>\n",
       "      <th>Close</th>\n",
       "      <th>Adj Close</th>\n",
       "    </tr>\n",
       "    <tr>\n",
       "      <th>Date</th>\n",
       "      <th></th>\n",
       "      <th></th>\n",
       "      <th></th>\n",
       "      <th></th>\n",
       "      <th></th>\n",
       "    </tr>\n",
       "  </thead>\n",
       "  <tbody>\n",
       "    <tr>\n",
       "      <th>2005-01-03</th>\n",
       "      <td>102.519997</td>\n",
       "      <td>103.430000</td>\n",
       "      <td>102.349998</td>\n",
       "      <td>102.739998</td>\n",
       "      <td>102.739998</td>\n",
       "    </tr>\n",
       "    <tr>\n",
       "      <th>2005-01-04</th>\n",
       "      <td>102.730003</td>\n",
       "      <td>104.739998</td>\n",
       "      <td>102.459999</td>\n",
       "      <td>104.339996</td>\n",
       "      <td>104.339996</td>\n",
       "    </tr>\n",
       "    <tr>\n",
       "      <th>2005-01-05</th>\n",
       "      <td>104.330002</td>\n",
       "      <td>104.970001</td>\n",
       "      <td>103.769997</td>\n",
       "      <td>103.930000</td>\n",
       "      <td>103.930000</td>\n",
       "    </tr>\n",
       "    <tr>\n",
       "      <th>2005-01-06</th>\n",
       "      <td>103.959999</td>\n",
       "      <td>105.129997</td>\n",
       "      <td>103.959999</td>\n",
       "      <td>104.889999</td>\n",
       "      <td>104.889999</td>\n",
       "    </tr>\n",
       "    <tr>\n",
       "      <th>2005-01-07</th>\n",
       "      <td>104.870003</td>\n",
       "      <td>105.110001</td>\n",
       "      <td>103.889999</td>\n",
       "      <td>104.889999</td>\n",
       "      <td>104.889999</td>\n",
       "    </tr>\n",
       "    <tr>\n",
       "      <th>2005-01-08</th>\n",
       "      <td>104.870003</td>\n",
       "      <td>105.110001</td>\n",
       "      <td>103.889999</td>\n",
       "      <td>104.889999</td>\n",
       "      <td>104.889999</td>\n",
       "    </tr>\n",
       "    <tr>\n",
       "      <th>2005-01-09</th>\n",
       "      <td>104.680000</td>\n",
       "      <td>104.800003</td>\n",
       "      <td>104.070000</td>\n",
       "      <td>104.169998</td>\n",
       "      <td>104.169998</td>\n",
       "    </tr>\n",
       "    <tr>\n",
       "      <th>2005-01-10</th>\n",
       "      <td>104.680000</td>\n",
       "      <td>104.800003</td>\n",
       "      <td>104.070000</td>\n",
       "      <td>104.169998</td>\n",
       "      <td>104.169998</td>\n",
       "    </tr>\n",
       "    <tr>\n",
       "      <th>2005-01-11</th>\n",
       "      <td>104.180000</td>\n",
       "      <td>104.260002</td>\n",
       "      <td>103.120003</td>\n",
       "      <td>103.419998</td>\n",
       "      <td>103.419998</td>\n",
       "    </tr>\n",
       "    <tr>\n",
       "      <th>2005-01-12</th>\n",
       "      <td>103.419998</td>\n",
       "      <td>103.529999</td>\n",
       "      <td>102.180000</td>\n",
       "      <td>102.440002</td>\n",
       "      <td>102.440002</td>\n",
       "    </tr>\n",
       "  </tbody>\n",
       "</table>\n",
       "</div>"
      ],
      "text/plain": [
       "                  Open        High         Low       Close   Adj Close\n",
       "Date                                                                  \n",
       "2005-01-03  102.519997  103.430000  102.349998  102.739998  102.739998\n",
       "2005-01-04  102.730003  104.739998  102.459999  104.339996  104.339996\n",
       "2005-01-05  104.330002  104.970001  103.769997  103.930000  103.930000\n",
       "2005-01-06  103.959999  105.129997  103.959999  104.889999  104.889999\n",
       "2005-01-07  104.870003  105.110001  103.889999  104.889999  104.889999\n",
       "2005-01-08  104.870003  105.110001  103.889999  104.889999  104.889999\n",
       "2005-01-09  104.680000  104.800003  104.070000  104.169998  104.169998\n",
       "2005-01-10  104.680000  104.800003  104.070000  104.169998  104.169998\n",
       "2005-01-11  104.180000  104.260002  103.120003  103.419998  103.419998\n",
       "2005-01-12  103.419998  103.529999  102.180000  102.440002  102.440002"
      ]
     },
     "execution_count": 26,
     "metadata": {},
     "output_type": "execute_result"
    }
   ],
   "source": [
    "complete_forex_data.head(10)"
   ]
  },
  {
   "cell_type": "markdown",
   "metadata": {},
   "source": [
    "Checking for missing values"
   ]
  },
  {
   "cell_type": "code",
   "execution_count": 27,
   "metadata": {},
   "outputs": [
    {
     "data": {
      "text/plain": [
       "(0, 5)"
      ]
     },
     "execution_count": 27,
     "metadata": {},
     "output_type": "execute_result"
    }
   ],
   "source": [
    "nan_mask = pd.isna(complete_forex_data).any(axis=1)\n",
    "\n",
    "nan_values_df = complete_forex_data[nan_mask]\n",
    "nan_values_df.shape"
   ]
  },
  {
   "cell_type": "code",
   "execution_count": 28,
   "metadata": {},
   "outputs": [],
   "source": [
    "complete_forex_data.to_csv(\"prepared_Forex_JPYUSD.csv\", index=\"None\")"
   ]
  }
 ],
 "metadata": {
  "kernelspec": {
   "display_name": "Python 3",
   "language": "python",
   "name": "python3"
  },
  "language_info": {
   "codemirror_mode": {
    "name": "ipython",
    "version": 3
   },
   "file_extension": ".py",
   "mimetype": "text/x-python",
   "name": "python",
   "nbconvert_exporter": "python",
   "pygments_lexer": "ipython3",
   "version": "3.10.7"
  },
  "orig_nbformat": 4
 },
 "nbformat": 4,
 "nbformat_minor": 2
}
