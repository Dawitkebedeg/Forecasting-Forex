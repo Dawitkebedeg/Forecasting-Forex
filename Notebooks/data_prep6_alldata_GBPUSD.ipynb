{
 "cells": [
  {
   "cell_type": "code",
   "execution_count": 1,
   "metadata": {},
   "outputs": [],
   "source": [
    "import pandas as pd"
   ]
  },
  {
   "cell_type": "markdown",
   "metadata": {},
   "source": [
    "Loading Prepared Data"
   ]
  },
  {
   "cell_type": "code",
   "execution_count": 2,
   "metadata": {},
   "outputs": [],
   "source": [
    "gbpusd = pd.read_csv(\"prepared_Forex_GBPUSD.csv\")"
   ]
  },
  {
   "cell_type": "code",
   "execution_count": 3,
   "metadata": {},
   "outputs": [],
   "source": [
    "us_events = pd.read_csv(\"prepared_events_US.csv\")"
   ]
  },
  {
   "cell_type": "code",
   "execution_count": 4,
   "metadata": {},
   "outputs": [],
   "source": [
    "gbr_events = pd.read_csv(\"prepared_events_GBR.csv\")"
   ]
  },
  {
   "cell_type": "markdown",
   "metadata": {},
   "source": [
    "Checking the start and dates of the data"
   ]
  },
  {
   "cell_type": "code",
   "execution_count": 5,
   "metadata": {},
   "outputs": [
    {
     "data": {
      "text/html": [
       "<div>\n",
       "<style scoped>\n",
       "    .dataframe tbody tr th:only-of-type {\n",
       "        vertical-align: middle;\n",
       "    }\n",
       "\n",
       "    .dataframe tbody tr th {\n",
       "        vertical-align: top;\n",
       "    }\n",
       "\n",
       "    .dataframe thead th {\n",
       "        text-align: right;\n",
       "    }\n",
       "</style>\n",
       "<table border=\"1\" class=\"dataframe\">\n",
       "  <thead>\n",
       "    <tr style=\"text-align: right;\">\n",
       "      <th></th>\n",
       "      <th>Date</th>\n",
       "      <th>Open</th>\n",
       "      <th>High</th>\n",
       "      <th>Low</th>\n",
       "      <th>Close</th>\n",
       "      <th>Adj Close</th>\n",
       "    </tr>\n",
       "  </thead>\n",
       "  <tbody>\n",
       "    <tr>\n",
       "      <th>0</th>\n",
       "      <td>2005-01-03</td>\n",
       "      <td>1.919791</td>\n",
       "      <td>1.919791</td>\n",
       "      <td>1.900490</td>\n",
       "      <td>1.904617</td>\n",
       "      <td>1.904617</td>\n",
       "    </tr>\n",
       "    <tr>\n",
       "      <th>1</th>\n",
       "      <td>2005-01-04</td>\n",
       "      <td>1.904617</td>\n",
       "      <td>1.908506</td>\n",
       "      <td>1.878816</td>\n",
       "      <td>1.883594</td>\n",
       "      <td>1.883594</td>\n",
       "    </tr>\n",
       "  </tbody>\n",
       "</table>\n",
       "</div>"
      ],
      "text/plain": [
       "         Date      Open      High       Low     Close  Adj Close\n",
       "0  2005-01-03  1.919791  1.919791  1.900490  1.904617   1.904617\n",
       "1  2005-01-04  1.904617  1.908506  1.878816  1.883594   1.883594"
      ]
     },
     "execution_count": 5,
     "metadata": {},
     "output_type": "execute_result"
    }
   ],
   "source": [
    "gbpusd.head(2)"
   ]
  },
  {
   "cell_type": "code",
   "execution_count": 6,
   "metadata": {},
   "outputs": [
    {
     "data": {
      "text/html": [
       "<div>\n",
       "<style scoped>\n",
       "    .dataframe tbody tr th:only-of-type {\n",
       "        vertical-align: middle;\n",
       "    }\n",
       "\n",
       "    .dataframe tbody tr th {\n",
       "        vertical-align: top;\n",
       "    }\n",
       "\n",
       "    .dataframe thead th {\n",
       "        text-align: right;\n",
       "    }\n",
       "</style>\n",
       "<table border=\"1\" class=\"dataframe\">\n",
       "  <thead>\n",
       "    <tr style=\"text-align: right;\">\n",
       "      <th></th>\n",
       "      <th>SQLDATE</th>\n",
       "      <th>USGoldSteinScale</th>\n",
       "      <th>USNumMentions</th>\n",
       "    </tr>\n",
       "  </thead>\n",
       "  <tbody>\n",
       "    <tr>\n",
       "      <th>0</th>\n",
       "      <td>2005-02-22</td>\n",
       "      <td>-10.0</td>\n",
       "      <td>10.0</td>\n",
       "    </tr>\n",
       "    <tr>\n",
       "      <th>1</th>\n",
       "      <td>2005-02-23</td>\n",
       "      <td>0.0</td>\n",
       "      <td>0.0</td>\n",
       "    </tr>\n",
       "  </tbody>\n",
       "</table>\n",
       "</div>"
      ],
      "text/plain": [
       "      SQLDATE  USGoldSteinScale  USNumMentions\n",
       "0  2005-02-22             -10.0           10.0\n",
       "1  2005-02-23               0.0            0.0"
      ]
     },
     "execution_count": 6,
     "metadata": {},
     "output_type": "execute_result"
    }
   ],
   "source": [
    "us_events.head(2)"
   ]
  },
  {
   "cell_type": "code",
   "execution_count": 7,
   "metadata": {},
   "outputs": [
    {
     "data": {
      "text/html": [
       "<div>\n",
       "<style scoped>\n",
       "    .dataframe tbody tr th:only-of-type {\n",
       "        vertical-align: middle;\n",
       "    }\n",
       "\n",
       "    .dataframe tbody tr th {\n",
       "        vertical-align: top;\n",
       "    }\n",
       "\n",
       "    .dataframe thead th {\n",
       "        text-align: right;\n",
       "    }\n",
       "</style>\n",
       "<table border=\"1\" class=\"dataframe\">\n",
       "  <thead>\n",
       "    <tr style=\"text-align: right;\">\n",
       "      <th></th>\n",
       "      <th>SQLDATE</th>\n",
       "      <th>GBRGoldSteinScale</th>\n",
       "      <th>GBRNumMentions</th>\n",
       "    </tr>\n",
       "  </thead>\n",
       "  <tbody>\n",
       "    <tr>\n",
       "      <th>0</th>\n",
       "      <td>2005-04-25</td>\n",
       "      <td>-9.0</td>\n",
       "      <td>10.0</td>\n",
       "    </tr>\n",
       "    <tr>\n",
       "      <th>1</th>\n",
       "      <td>2005-04-26</td>\n",
       "      <td>-9.0</td>\n",
       "      <td>10.0</td>\n",
       "    </tr>\n",
       "  </tbody>\n",
       "</table>\n",
       "</div>"
      ],
      "text/plain": [
       "      SQLDATE  GBRGoldSteinScale  GBRNumMentions\n",
       "0  2005-04-25               -9.0            10.0\n",
       "1  2005-04-26               -9.0            10.0"
      ]
     },
     "execution_count": 7,
     "metadata": {},
     "output_type": "execute_result"
    }
   ],
   "source": [
    "gbr_events.head(2)"
   ]
  },
  {
   "cell_type": "markdown",
   "metadata": {},
   "source": [
    "Rename SQLDATE column for convenience "
   ]
  },
  {
   "cell_type": "code",
   "execution_count": 8,
   "metadata": {},
   "outputs": [],
   "source": [
    "us_events.rename(columns={\"SQLDATE\":\"Date\"}, inplace=True)\n",
    "gbr_events.rename(columns={\"SQLDATE\":\"Date\"}, inplace=True)"
   ]
  },
  {
   "cell_type": "markdown",
   "metadata": {},
   "source": [
    "Droping data before '2005-05-01'"
   ]
  },
  {
   "cell_type": "code",
   "execution_count": 9,
   "metadata": {},
   "outputs": [],
   "source": [
    "gbpusd['Date'] = pd.to_datetime(gbpusd['Date'])\n",
    "us_events['Date'] = pd.to_datetime(us_events['Date'])\n",
    "gbr_events['Date'] = pd.to_datetime(gbr_events['Date'])\n",
    "\n",
    "# Filter rows with dates on or after '2005-05-01'\n",
    "gbpusd = gbpusd[gbpusd['Date'] >= '2005-05-01']\n",
    "us_events = us_events[us_events['Date'] >= '2005-05-01']\n",
    "gbr_events = gbr_events[gbr_events['Date'] >= '2005-05-01']"
   ]
  },
  {
   "cell_type": "code",
   "execution_count": 10,
   "metadata": {},
   "outputs": [
    {
     "data": {
      "text/html": [
       "<div>\n",
       "<style scoped>\n",
       "    .dataframe tbody tr th:only-of-type {\n",
       "        vertical-align: middle;\n",
       "    }\n",
       "\n",
       "    .dataframe tbody tr th {\n",
       "        vertical-align: top;\n",
       "    }\n",
       "\n",
       "    .dataframe thead th {\n",
       "        text-align: right;\n",
       "    }\n",
       "</style>\n",
       "<table border=\"1\" class=\"dataframe\">\n",
       "  <thead>\n",
       "    <tr style=\"text-align: right;\">\n",
       "      <th></th>\n",
       "      <th>Date</th>\n",
       "      <th>Open</th>\n",
       "      <th>High</th>\n",
       "      <th>Low</th>\n",
       "      <th>Close</th>\n",
       "      <th>Adj Close</th>\n",
       "    </tr>\n",
       "  </thead>\n",
       "  <tbody>\n",
       "    <tr>\n",
       "      <th>118</th>\n",
       "      <td>2005-05-01</td>\n",
       "      <td>1.906214</td>\n",
       "      <td>1.906614</td>\n",
       "      <td>1.893186</td>\n",
       "      <td>1.894801</td>\n",
       "      <td>1.894801</td>\n",
       "    </tr>\n",
       "    <tr>\n",
       "      <th>119</th>\n",
       "      <td>2005-05-02</td>\n",
       "      <td>1.906214</td>\n",
       "      <td>1.906614</td>\n",
       "      <td>1.893186</td>\n",
       "      <td>1.894801</td>\n",
       "      <td>1.894801</td>\n",
       "    </tr>\n",
       "  </tbody>\n",
       "</table>\n",
       "</div>"
      ],
      "text/plain": [
       "          Date      Open      High       Low     Close  Adj Close\n",
       "118 2005-05-01  1.906214  1.906614  1.893186  1.894801   1.894801\n",
       "119 2005-05-02  1.906214  1.906614  1.893186  1.894801   1.894801"
      ]
     },
     "execution_count": 10,
     "metadata": {},
     "output_type": "execute_result"
    }
   ],
   "source": [
    "gbpusd.head(2)"
   ]
  },
  {
   "cell_type": "code",
   "execution_count": 11,
   "metadata": {},
   "outputs": [
    {
     "data": {
      "text/html": [
       "<div>\n",
       "<style scoped>\n",
       "    .dataframe tbody tr th:only-of-type {\n",
       "        vertical-align: middle;\n",
       "    }\n",
       "\n",
       "    .dataframe tbody tr th {\n",
       "        vertical-align: top;\n",
       "    }\n",
       "\n",
       "    .dataframe thead th {\n",
       "        text-align: right;\n",
       "    }\n",
       "</style>\n",
       "<table border=\"1\" class=\"dataframe\">\n",
       "  <thead>\n",
       "    <tr style=\"text-align: right;\">\n",
       "      <th></th>\n",
       "      <th>Date</th>\n",
       "      <th>USGoldSteinScale</th>\n",
       "      <th>USNumMentions</th>\n",
       "    </tr>\n",
       "  </thead>\n",
       "  <tbody>\n",
       "    <tr>\n",
       "      <th>68</th>\n",
       "      <td>2005-05-01</td>\n",
       "      <td>0.0</td>\n",
       "      <td>0.0</td>\n",
       "    </tr>\n",
       "    <tr>\n",
       "      <th>69</th>\n",
       "      <td>2005-05-02</td>\n",
       "      <td>-10.0</td>\n",
       "      <td>10.0</td>\n",
       "    </tr>\n",
       "  </tbody>\n",
       "</table>\n",
       "</div>"
      ],
      "text/plain": [
       "         Date  USGoldSteinScale  USNumMentions\n",
       "68 2005-05-01               0.0            0.0\n",
       "69 2005-05-02             -10.0           10.0"
      ]
     },
     "execution_count": 11,
     "metadata": {},
     "output_type": "execute_result"
    }
   ],
   "source": [
    "us_events.head(2)"
   ]
  },
  {
   "cell_type": "code",
   "execution_count": 12,
   "metadata": {},
   "outputs": [
    {
     "data": {
      "text/html": [
       "<div>\n",
       "<style scoped>\n",
       "    .dataframe tbody tr th:only-of-type {\n",
       "        vertical-align: middle;\n",
       "    }\n",
       "\n",
       "    .dataframe tbody tr th {\n",
       "        vertical-align: top;\n",
       "    }\n",
       "\n",
       "    .dataframe thead th {\n",
       "        text-align: right;\n",
       "    }\n",
       "</style>\n",
       "<table border=\"1\" class=\"dataframe\">\n",
       "  <thead>\n",
       "    <tr style=\"text-align: right;\">\n",
       "      <th></th>\n",
       "      <th>Date</th>\n",
       "      <th>GBRGoldSteinScale</th>\n",
       "      <th>GBRNumMentions</th>\n",
       "    </tr>\n",
       "  </thead>\n",
       "  <tbody>\n",
       "    <tr>\n",
       "      <th>6</th>\n",
       "      <td>2005-05-01</td>\n",
       "      <td>0.0</td>\n",
       "      <td>0.0</td>\n",
       "    </tr>\n",
       "    <tr>\n",
       "      <th>7</th>\n",
       "      <td>2005-05-02</td>\n",
       "      <td>7.0</td>\n",
       "      <td>10.0</td>\n",
       "    </tr>\n",
       "  </tbody>\n",
       "</table>\n",
       "</div>"
      ],
      "text/plain": [
       "        Date  GBRGoldSteinScale  GBRNumMentions\n",
       "6 2005-05-01                0.0             0.0\n",
       "7 2005-05-02                7.0            10.0"
      ]
     },
     "execution_count": 12,
     "metadata": {},
     "output_type": "execute_result"
    }
   ],
   "source": [
    "gbr_events.head(2)"
   ]
  },
  {
   "cell_type": "markdown",
   "metadata": {},
   "source": [
    "Checking End Date"
   ]
  },
  {
   "cell_type": "code",
   "execution_count": 13,
   "metadata": {},
   "outputs": [
    {
     "data": {
      "text/html": [
       "<div>\n",
       "<style scoped>\n",
       "    .dataframe tbody tr th:only-of-type {\n",
       "        vertical-align: middle;\n",
       "    }\n",
       "\n",
       "    .dataframe tbody tr th {\n",
       "        vertical-align: top;\n",
       "    }\n",
       "\n",
       "    .dataframe thead th {\n",
       "        text-align: right;\n",
       "    }\n",
       "</style>\n",
       "<table border=\"1\" class=\"dataframe\">\n",
       "  <thead>\n",
       "    <tr style=\"text-align: right;\">\n",
       "      <th></th>\n",
       "      <th>Date</th>\n",
       "      <th>Open</th>\n",
       "      <th>High</th>\n",
       "      <th>Low</th>\n",
       "      <th>Close</th>\n",
       "      <th>Adj Close</th>\n",
       "    </tr>\n",
       "  </thead>\n",
       "  <tbody>\n",
       "    <tr>\n",
       "      <th>6751</th>\n",
       "      <td>2023-06-29</td>\n",
       "      <td>1.264127</td>\n",
       "      <td>1.266592</td>\n",
       "      <td>1.259256</td>\n",
       "      <td>1.264254</td>\n",
       "      <td>1.264254</td>\n",
       "    </tr>\n",
       "    <tr>\n",
       "      <th>6752</th>\n",
       "      <td>2023-06-30</td>\n",
       "      <td>1.261495</td>\n",
       "      <td>1.272621</td>\n",
       "      <td>1.260144</td>\n",
       "      <td>1.261464</td>\n",
       "      <td>1.261464</td>\n",
       "    </tr>\n",
       "  </tbody>\n",
       "</table>\n",
       "</div>"
      ],
      "text/plain": [
       "           Date      Open      High       Low     Close  Adj Close\n",
       "6751 2023-06-29  1.264127  1.266592  1.259256  1.264254   1.264254\n",
       "6752 2023-06-30  1.261495  1.272621  1.260144  1.261464   1.261464"
      ]
     },
     "execution_count": 13,
     "metadata": {},
     "output_type": "execute_result"
    }
   ],
   "source": [
    "gbpusd.tail(2)"
   ]
  },
  {
   "cell_type": "code",
   "execution_count": 14,
   "metadata": {},
   "outputs": [
    {
     "data": {
      "text/html": [
       "<div>\n",
       "<style scoped>\n",
       "    .dataframe tbody tr th:only-of-type {\n",
       "        vertical-align: middle;\n",
       "    }\n",
       "\n",
       "    .dataframe tbody tr th {\n",
       "        vertical-align: top;\n",
       "    }\n",
       "\n",
       "    .dataframe thead th {\n",
       "        text-align: right;\n",
       "    }\n",
       "</style>\n",
       "<table border=\"1\" class=\"dataframe\">\n",
       "  <thead>\n",
       "    <tr style=\"text-align: right;\">\n",
       "      <th></th>\n",
       "      <th>Date</th>\n",
       "      <th>USGoldSteinScale</th>\n",
       "      <th>USNumMentions</th>\n",
       "    </tr>\n",
       "  </thead>\n",
       "  <tbody>\n",
       "    <tr>\n",
       "      <th>6701</th>\n",
       "      <td>2023-06-29</td>\n",
       "      <td>0.522759</td>\n",
       "      <td>9.093127</td>\n",
       "    </tr>\n",
       "    <tr>\n",
       "      <th>6702</th>\n",
       "      <td>2023-06-30</td>\n",
       "      <td>0.899347</td>\n",
       "      <td>9.083835</td>\n",
       "    </tr>\n",
       "  </tbody>\n",
       "</table>\n",
       "</div>"
      ],
      "text/plain": [
       "           Date  USGoldSteinScale  USNumMentions\n",
       "6701 2023-06-29          0.522759       9.093127\n",
       "6702 2023-06-30          0.899347       9.083835"
      ]
     },
     "execution_count": 14,
     "metadata": {},
     "output_type": "execute_result"
    }
   ],
   "source": [
    "us_events.tail(2)"
   ]
  },
  {
   "cell_type": "code",
   "execution_count": 15,
   "metadata": {},
   "outputs": [
    {
     "data": {
      "text/html": [
       "<div>\n",
       "<style scoped>\n",
       "    .dataframe tbody tr th:only-of-type {\n",
       "        vertical-align: middle;\n",
       "    }\n",
       "\n",
       "    .dataframe tbody tr th {\n",
       "        vertical-align: top;\n",
       "    }\n",
       "\n",
       "    .dataframe thead th {\n",
       "        text-align: right;\n",
       "    }\n",
       "</style>\n",
       "<table border=\"1\" class=\"dataframe\">\n",
       "  <thead>\n",
       "    <tr style=\"text-align: right;\">\n",
       "      <th></th>\n",
       "      <th>Date</th>\n",
       "      <th>GBRGoldSteinScale</th>\n",
       "      <th>GBRNumMentions</th>\n",
       "    </tr>\n",
       "  </thead>\n",
       "  <tbody>\n",
       "    <tr>\n",
       "      <th>6639</th>\n",
       "      <td>2023-06-29</td>\n",
       "      <td>0.740120</td>\n",
       "      <td>9.562874</td>\n",
       "    </tr>\n",
       "    <tr>\n",
       "      <th>6640</th>\n",
       "      <td>2023-06-30</td>\n",
       "      <td>0.911852</td>\n",
       "      <td>9.548148</td>\n",
       "    </tr>\n",
       "  </tbody>\n",
       "</table>\n",
       "</div>"
      ],
      "text/plain": [
       "           Date  GBRGoldSteinScale  GBRNumMentions\n",
       "6639 2023-06-29           0.740120        9.562874\n",
       "6640 2023-06-30           0.911852        9.548148"
      ]
     },
     "execution_count": 15,
     "metadata": {},
     "output_type": "execute_result"
    }
   ],
   "source": [
    "gbr_events.tail(2)"
   ]
  },
  {
   "cell_type": "markdown",
   "metadata": {},
   "source": [
    "Check Data Size"
   ]
  },
  {
   "cell_type": "code",
   "execution_count": 16,
   "metadata": {},
   "outputs": [
    {
     "data": {
      "text/plain": [
       "(6635, 6)"
      ]
     },
     "execution_count": 16,
     "metadata": {},
     "output_type": "execute_result"
    }
   ],
   "source": [
    "gbpusd.shape"
   ]
  },
  {
   "cell_type": "code",
   "execution_count": 17,
   "metadata": {},
   "outputs": [
    {
     "data": {
      "text/plain": [
       "(6635, 3)"
      ]
     },
     "execution_count": 17,
     "metadata": {},
     "output_type": "execute_result"
    }
   ],
   "source": [
    "us_events.shape"
   ]
  },
  {
   "cell_type": "code",
   "execution_count": 18,
   "metadata": {},
   "outputs": [
    {
     "data": {
      "text/plain": [
       "(6635, 3)"
      ]
     },
     "execution_count": 18,
     "metadata": {},
     "output_type": "execute_result"
    }
   ],
   "source": [
    "gbr_events.shape"
   ]
  },
  {
   "cell_type": "markdown",
   "metadata": {},
   "source": [
    "Set 'Date' as index for each DataFrame"
   ]
  },
  {
   "cell_type": "code",
   "execution_count": 19,
   "metadata": {},
   "outputs": [],
   "source": [
    "gbpusd.set_index('Date', inplace=True)\n",
    "us_events.set_index('Date', inplace=True)\n",
    "gbr_events.set_index('Date', inplace=True)"
   ]
  },
  {
   "cell_type": "markdown",
   "metadata": {},
   "source": [
    "Check if the dates are aligned"
   ]
  },
  {
   "cell_type": "code",
   "execution_count": 20,
   "metadata": {},
   "outputs": [
    {
     "name": "stdout",
     "output_type": "stream",
     "text": [
      "True\n"
     ]
    }
   ],
   "source": [
    "dates_aligned = (gbpusd.index.equals(us_events.index) and us_events.index.equals(gbr_events.index))\n",
    "\n",
    "print(dates_aligned)"
   ]
  },
  {
   "cell_type": "markdown",
   "metadata": {},
   "source": [
    "Merging the data frames to one"
   ]
  },
  {
   "cell_type": "code",
   "execution_count": 21,
   "metadata": {},
   "outputs": [],
   "source": [
    "merged_GBPUSD = pd.concat([gbpusd, us_events, gbr_events], axis=1)"
   ]
  },
  {
   "cell_type": "code",
   "execution_count": 22,
   "metadata": {},
   "outputs": [
    {
     "data": {
      "text/html": [
       "<div>\n",
       "<style scoped>\n",
       "    .dataframe tbody tr th:only-of-type {\n",
       "        vertical-align: middle;\n",
       "    }\n",
       "\n",
       "    .dataframe tbody tr th {\n",
       "        vertical-align: top;\n",
       "    }\n",
       "\n",
       "    .dataframe thead th {\n",
       "        text-align: right;\n",
       "    }\n",
       "</style>\n",
       "<table border=\"1\" class=\"dataframe\">\n",
       "  <thead>\n",
       "    <tr style=\"text-align: right;\">\n",
       "      <th></th>\n",
       "      <th>Open</th>\n",
       "      <th>High</th>\n",
       "      <th>Low</th>\n",
       "      <th>Close</th>\n",
       "      <th>Adj Close</th>\n",
       "      <th>USGoldSteinScale</th>\n",
       "      <th>USNumMentions</th>\n",
       "      <th>GBRGoldSteinScale</th>\n",
       "      <th>GBRNumMentions</th>\n",
       "    </tr>\n",
       "    <tr>\n",
       "      <th>Date</th>\n",
       "      <th></th>\n",
       "      <th></th>\n",
       "      <th></th>\n",
       "      <th></th>\n",
       "      <th></th>\n",
       "      <th></th>\n",
       "      <th></th>\n",
       "      <th></th>\n",
       "      <th></th>\n",
       "    </tr>\n",
       "  </thead>\n",
       "  <tbody>\n",
       "    <tr>\n",
       "      <th>2005-05-01</th>\n",
       "      <td>1.906214</td>\n",
       "      <td>1.906614</td>\n",
       "      <td>1.893186</td>\n",
       "      <td>1.894801</td>\n",
       "      <td>1.894801</td>\n",
       "      <td>0.0</td>\n",
       "      <td>0.0</td>\n",
       "      <td>0.0</td>\n",
       "      <td>0.0</td>\n",
       "    </tr>\n",
       "    <tr>\n",
       "      <th>2005-05-02</th>\n",
       "      <td>1.906214</td>\n",
       "      <td>1.906614</td>\n",
       "      <td>1.893186</td>\n",
       "      <td>1.894801</td>\n",
       "      <td>1.894801</td>\n",
       "      <td>-10.0</td>\n",
       "      <td>10.0</td>\n",
       "      <td>7.0</td>\n",
       "      <td>10.0</td>\n",
       "    </tr>\n",
       "    <tr>\n",
       "      <th>2005-05-03</th>\n",
       "      <td>1.895016</td>\n",
       "      <td>1.895483</td>\n",
       "      <td>1.889288</td>\n",
       "      <td>1.893688</td>\n",
       "      <td>1.893688</td>\n",
       "      <td>0.0</td>\n",
       "      <td>0.0</td>\n",
       "      <td>0.0</td>\n",
       "      <td>0.0</td>\n",
       "    </tr>\n",
       "    <tr>\n",
       "      <th>2005-05-04</th>\n",
       "      <td>1.893509</td>\n",
       "      <td>1.903203</td>\n",
       "      <td>1.893007</td>\n",
       "      <td>1.902117</td>\n",
       "      <td>1.902117</td>\n",
       "      <td>0.0</td>\n",
       "      <td>0.0</td>\n",
       "      <td>0.0</td>\n",
       "      <td>0.0</td>\n",
       "    </tr>\n",
       "    <tr>\n",
       "      <th>2005-05-05</th>\n",
       "      <td>1.902117</td>\n",
       "      <td>1.907414</td>\n",
       "      <td>1.899985</td>\n",
       "      <td>1.902515</td>\n",
       "      <td>1.902515</td>\n",
       "      <td>0.0</td>\n",
       "      <td>0.0</td>\n",
       "      <td>0.0</td>\n",
       "      <td>0.0</td>\n",
       "    </tr>\n",
       "  </tbody>\n",
       "</table>\n",
       "</div>"
      ],
      "text/plain": [
       "                Open      High       Low     Close  Adj Close  \\\n",
       "Date                                                            \n",
       "2005-05-01  1.906214  1.906614  1.893186  1.894801   1.894801   \n",
       "2005-05-02  1.906214  1.906614  1.893186  1.894801   1.894801   \n",
       "2005-05-03  1.895016  1.895483  1.889288  1.893688   1.893688   \n",
       "2005-05-04  1.893509  1.903203  1.893007  1.902117   1.902117   \n",
       "2005-05-05  1.902117  1.907414  1.899985  1.902515   1.902515   \n",
       "\n",
       "            USGoldSteinScale  USNumMentions  GBRGoldSteinScale  GBRNumMentions  \n",
       "Date                                                                            \n",
       "2005-05-01               0.0            0.0                0.0             0.0  \n",
       "2005-05-02             -10.0           10.0                7.0            10.0  \n",
       "2005-05-03               0.0            0.0                0.0             0.0  \n",
       "2005-05-04               0.0            0.0                0.0             0.0  \n",
       "2005-05-05               0.0            0.0                0.0             0.0  "
      ]
     },
     "execution_count": 22,
     "metadata": {},
     "output_type": "execute_result"
    }
   ],
   "source": [
    "merged_GBPUSD.head()"
   ]
  },
  {
   "cell_type": "code",
   "execution_count": 23,
   "metadata": {},
   "outputs": [
    {
     "data": {
      "text/html": [
       "<div>\n",
       "<style scoped>\n",
       "    .dataframe tbody tr th:only-of-type {\n",
       "        vertical-align: middle;\n",
       "    }\n",
       "\n",
       "    .dataframe tbody tr th {\n",
       "        vertical-align: top;\n",
       "    }\n",
       "\n",
       "    .dataframe thead th {\n",
       "        text-align: right;\n",
       "    }\n",
       "</style>\n",
       "<table border=\"1\" class=\"dataframe\">\n",
       "  <thead>\n",
       "    <tr style=\"text-align: right;\">\n",
       "      <th></th>\n",
       "      <th>Open</th>\n",
       "      <th>High</th>\n",
       "      <th>Low</th>\n",
       "      <th>Close</th>\n",
       "      <th>Adj Close</th>\n",
       "      <th>USGoldSteinScale</th>\n",
       "      <th>USNumMentions</th>\n",
       "      <th>GBRGoldSteinScale</th>\n",
       "      <th>GBRNumMentions</th>\n",
       "    </tr>\n",
       "    <tr>\n",
       "      <th>Date</th>\n",
       "      <th></th>\n",
       "      <th></th>\n",
       "      <th></th>\n",
       "      <th></th>\n",
       "      <th></th>\n",
       "      <th></th>\n",
       "      <th></th>\n",
       "      <th></th>\n",
       "      <th></th>\n",
       "    </tr>\n",
       "  </thead>\n",
       "  <tbody>\n",
       "    <tr>\n",
       "      <th>2023-06-26</th>\n",
       "      <td>1.273253</td>\n",
       "      <td>1.274827</td>\n",
       "      <td>1.268971</td>\n",
       "      <td>1.272961</td>\n",
       "      <td>1.272961</td>\n",
       "      <td>0.452791</td>\n",
       "      <td>9.052184</td>\n",
       "      <td>-0.045151</td>\n",
       "      <td>9.939799</td>\n",
       "    </tr>\n",
       "    <tr>\n",
       "      <th>2023-06-27</th>\n",
       "      <td>1.270923</td>\n",
       "      <td>1.275917</td>\n",
       "      <td>1.270487</td>\n",
       "      <td>1.271197</td>\n",
       "      <td>1.271197</td>\n",
       "      <td>0.458606</td>\n",
       "      <td>8.961518</td>\n",
       "      <td>1.424671</td>\n",
       "      <td>10.513158</td>\n",
       "    </tr>\n",
       "    <tr>\n",
       "      <th>2023-06-28</th>\n",
       "      <td>1.274454</td>\n",
       "      <td>1.275136</td>\n",
       "      <td>1.260827</td>\n",
       "      <td>1.274470</td>\n",
       "      <td>1.274470</td>\n",
       "      <td>0.817137</td>\n",
       "      <td>8.968750</td>\n",
       "      <td>-0.143034</td>\n",
       "      <td>9.597523</td>\n",
       "    </tr>\n",
       "    <tr>\n",
       "      <th>2023-06-29</th>\n",
       "      <td>1.264127</td>\n",
       "      <td>1.266592</td>\n",
       "      <td>1.259256</td>\n",
       "      <td>1.264254</td>\n",
       "      <td>1.264254</td>\n",
       "      <td>0.522759</td>\n",
       "      <td>9.093127</td>\n",
       "      <td>0.740120</td>\n",
       "      <td>9.562874</td>\n",
       "    </tr>\n",
       "    <tr>\n",
       "      <th>2023-06-30</th>\n",
       "      <td>1.261495</td>\n",
       "      <td>1.272621</td>\n",
       "      <td>1.260144</td>\n",
       "      <td>1.261464</td>\n",
       "      <td>1.261464</td>\n",
       "      <td>0.899347</td>\n",
       "      <td>9.083835</td>\n",
       "      <td>0.911852</td>\n",
       "      <td>9.548148</td>\n",
       "    </tr>\n",
       "  </tbody>\n",
       "</table>\n",
       "</div>"
      ],
      "text/plain": [
       "                Open      High       Low     Close  Adj Close  \\\n",
       "Date                                                            \n",
       "2023-06-26  1.273253  1.274827  1.268971  1.272961   1.272961   \n",
       "2023-06-27  1.270923  1.275917  1.270487  1.271197   1.271197   \n",
       "2023-06-28  1.274454  1.275136  1.260827  1.274470   1.274470   \n",
       "2023-06-29  1.264127  1.266592  1.259256  1.264254   1.264254   \n",
       "2023-06-30  1.261495  1.272621  1.260144  1.261464   1.261464   \n",
       "\n",
       "            USGoldSteinScale  USNumMentions  GBRGoldSteinScale  GBRNumMentions  \n",
       "Date                                                                            \n",
       "2023-06-26          0.452791       9.052184          -0.045151        9.939799  \n",
       "2023-06-27          0.458606       8.961518           1.424671       10.513158  \n",
       "2023-06-28          0.817137       8.968750          -0.143034        9.597523  \n",
       "2023-06-29          0.522759       9.093127           0.740120        9.562874  \n",
       "2023-06-30          0.899347       9.083835           0.911852        9.548148  "
      ]
     },
     "execution_count": 23,
     "metadata": {},
     "output_type": "execute_result"
    }
   ],
   "source": [
    "merged_GBPUSD.tail()"
   ]
  },
  {
   "cell_type": "code",
   "execution_count": 24,
   "metadata": {},
   "outputs": [],
   "source": [
    "merged_GBPUSD.to_csv(\"prepared_with_events_GBPUSD.csv\", index=\"None\")"
   ]
  }
 ],
 "metadata": {
  "kernelspec": {
   "display_name": "Python 3",
   "language": "python",
   "name": "python3"
  },
  "language_info": {
   "codemirror_mode": {
    "name": "ipython",
    "version": 3
   },
   "file_extension": ".py",
   "mimetype": "text/x-python",
   "name": "python",
   "nbconvert_exporter": "python",
   "pygments_lexer": "ipython3",
   "version": "3.10.7"
  },
  "orig_nbformat": 4
 },
 "nbformat": 4,
 "nbformat_minor": 2
}
