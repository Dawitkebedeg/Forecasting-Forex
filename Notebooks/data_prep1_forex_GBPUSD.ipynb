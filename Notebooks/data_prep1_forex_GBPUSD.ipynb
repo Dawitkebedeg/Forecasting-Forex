{
 "cells": [
  {
   "cell_type": "code",
   "execution_count": 1,
   "metadata": {},
   "outputs": [],
   "source": [
    "import pandas as pd"
   ]
  },
  {
   "cell_type": "code",
   "execution_count": 2,
   "metadata": {},
   "outputs": [],
   "source": [
    "gbpusd = pd.read_csv('../Data/Forex/GBPUSD.csv')"
   ]
  },
  {
   "cell_type": "code",
   "execution_count": 3,
   "metadata": {},
   "outputs": [
    {
     "data": {
      "text/html": [
       "<div>\n",
       "<style scoped>\n",
       "    .dataframe tbody tr th:only-of-type {\n",
       "        vertical-align: middle;\n",
       "    }\n",
       "\n",
       "    .dataframe tbody tr th {\n",
       "        vertical-align: top;\n",
       "    }\n",
       "\n",
       "    .dataframe thead th {\n",
       "        text-align: right;\n",
       "    }\n",
       "</style>\n",
       "<table border=\"1\" class=\"dataframe\">\n",
       "  <thead>\n",
       "    <tr style=\"text-align: right;\">\n",
       "      <th></th>\n",
       "      <th>Date</th>\n",
       "      <th>Open</th>\n",
       "      <th>High</th>\n",
       "      <th>Low</th>\n",
       "      <th>Close</th>\n",
       "      <th>Adj Close</th>\n",
       "      <th>Volume</th>\n",
       "    </tr>\n",
       "  </thead>\n",
       "  <tbody>\n",
       "    <tr>\n",
       "      <th>0</th>\n",
       "      <td>2005-01-03</td>\n",
       "      <td>1.919791</td>\n",
       "      <td>1.919791</td>\n",
       "      <td>1.900490</td>\n",
       "      <td>1.904617</td>\n",
       "      <td>1.904617</td>\n",
       "      <td>0.0</td>\n",
       "    </tr>\n",
       "    <tr>\n",
       "      <th>1</th>\n",
       "      <td>2005-01-04</td>\n",
       "      <td>1.904617</td>\n",
       "      <td>1.908506</td>\n",
       "      <td>1.878816</td>\n",
       "      <td>1.883594</td>\n",
       "      <td>1.883594</td>\n",
       "      <td>0.0</td>\n",
       "    </tr>\n",
       "    <tr>\n",
       "      <th>2</th>\n",
       "      <td>2005-01-05</td>\n",
       "      <td>1.883594</td>\n",
       "      <td>1.889216</td>\n",
       "      <td>1.873712</td>\n",
       "      <td>1.885512</td>\n",
       "      <td>1.885512</td>\n",
       "      <td>0.0</td>\n",
       "    </tr>\n",
       "    <tr>\n",
       "      <th>3</th>\n",
       "      <td>2005-01-06</td>\n",
       "      <td>1.885690</td>\n",
       "      <td>1.885690</td>\n",
       "      <td>1.870802</td>\n",
       "      <td>1.876490</td>\n",
       "      <td>1.876490</td>\n",
       "      <td>0.0</td>\n",
       "    </tr>\n",
       "    <tr>\n",
       "      <th>4</th>\n",
       "      <td>2005-01-07</td>\n",
       "      <td>1.876595</td>\n",
       "      <td>1.886010</td>\n",
       "      <td>1.865811</td>\n",
       "      <td>1.871293</td>\n",
       "      <td>1.871293</td>\n",
       "      <td>0.0</td>\n",
       "    </tr>\n",
       "  </tbody>\n",
       "</table>\n",
       "</div>"
      ],
      "text/plain": [
       "         Date      Open      High       Low     Close  Adj Close  Volume\n",
       "0  2005-01-03  1.919791  1.919791  1.900490  1.904617   1.904617     0.0\n",
       "1  2005-01-04  1.904617  1.908506  1.878816  1.883594   1.883594     0.0\n",
       "2  2005-01-05  1.883594  1.889216  1.873712  1.885512   1.885512     0.0\n",
       "3  2005-01-06  1.885690  1.885690  1.870802  1.876490   1.876490     0.0\n",
       "4  2005-01-07  1.876595  1.886010  1.865811  1.871293   1.871293     0.0"
      ]
     },
     "execution_count": 3,
     "metadata": {},
     "output_type": "execute_result"
    }
   ],
   "source": [
    "gbpusd.head()"
   ]
  },
  {
   "cell_type": "code",
   "execution_count": 4,
   "metadata": {},
   "outputs": [
    {
     "data": {
      "text/plain": [
       "(4825, 7)"
      ]
     },
     "execution_count": 4,
     "metadata": {},
     "output_type": "execute_result"
    }
   ],
   "source": [
    "gbpusd.shape"
   ]
  },
  {
   "cell_type": "code",
   "execution_count": 5,
   "metadata": {},
   "outputs": [
    {
     "data": {
      "text/html": [
       "<div>\n",
       "<style scoped>\n",
       "    .dataframe tbody tr th:only-of-type {\n",
       "        vertical-align: middle;\n",
       "    }\n",
       "\n",
       "    .dataframe tbody tr th {\n",
       "        vertical-align: top;\n",
       "    }\n",
       "\n",
       "    .dataframe thead th {\n",
       "        text-align: right;\n",
       "    }\n",
       "</style>\n",
       "<table border=\"1\" class=\"dataframe\">\n",
       "  <thead>\n",
       "    <tr style=\"text-align: right;\">\n",
       "      <th></th>\n",
       "      <th>Date</th>\n",
       "      <th>Open</th>\n",
       "      <th>High</th>\n",
       "      <th>Low</th>\n",
       "      <th>Close</th>\n",
       "      <th>Adj Close</th>\n",
       "      <th>Volume</th>\n",
       "    </tr>\n",
       "  </thead>\n",
       "  <tbody>\n",
       "    <tr>\n",
       "      <th>4820</th>\n",
       "      <td>2023-06-26</td>\n",
       "      <td>1.273253</td>\n",
       "      <td>1.274827</td>\n",
       "      <td>1.268971</td>\n",
       "      <td>1.272961</td>\n",
       "      <td>1.272961</td>\n",
       "      <td>0.0</td>\n",
       "    </tr>\n",
       "    <tr>\n",
       "      <th>4821</th>\n",
       "      <td>2023-06-27</td>\n",
       "      <td>1.270923</td>\n",
       "      <td>1.275917</td>\n",
       "      <td>1.270487</td>\n",
       "      <td>1.271197</td>\n",
       "      <td>1.271197</td>\n",
       "      <td>0.0</td>\n",
       "    </tr>\n",
       "    <tr>\n",
       "      <th>4822</th>\n",
       "      <td>2023-06-28</td>\n",
       "      <td>1.274454</td>\n",
       "      <td>1.275136</td>\n",
       "      <td>1.260827</td>\n",
       "      <td>1.274470</td>\n",
       "      <td>1.274470</td>\n",
       "      <td>0.0</td>\n",
       "    </tr>\n",
       "    <tr>\n",
       "      <th>4823</th>\n",
       "      <td>2023-06-29</td>\n",
       "      <td>1.264127</td>\n",
       "      <td>1.266592</td>\n",
       "      <td>1.259256</td>\n",
       "      <td>1.264254</td>\n",
       "      <td>1.264254</td>\n",
       "      <td>0.0</td>\n",
       "    </tr>\n",
       "    <tr>\n",
       "      <th>4824</th>\n",
       "      <td>2023-06-30</td>\n",
       "      <td>1.261495</td>\n",
       "      <td>1.272621</td>\n",
       "      <td>1.260144</td>\n",
       "      <td>1.261464</td>\n",
       "      <td>1.261464</td>\n",
       "      <td>0.0</td>\n",
       "    </tr>\n",
       "  </tbody>\n",
       "</table>\n",
       "</div>"
      ],
      "text/plain": [
       "            Date      Open      High       Low     Close  Adj Close  Volume\n",
       "4820  2023-06-26  1.273253  1.274827  1.268971  1.272961   1.272961     0.0\n",
       "4821  2023-06-27  1.270923  1.275917  1.270487  1.271197   1.271197     0.0\n",
       "4822  2023-06-28  1.274454  1.275136  1.260827  1.274470   1.274470     0.0\n",
       "4823  2023-06-29  1.264127  1.266592  1.259256  1.264254   1.264254     0.0\n",
       "4824  2023-06-30  1.261495  1.272621  1.260144  1.261464   1.261464     0.0"
      ]
     },
     "execution_count": 5,
     "metadata": {},
     "output_type": "execute_result"
    }
   ],
   "source": [
    "gbpusd.tail()"
   ]
  },
  {
   "cell_type": "markdown",
   "metadata": {},
   "source": [
    "Dropping Volume"
   ]
  },
  {
   "cell_type": "code",
   "execution_count": 6,
   "metadata": {},
   "outputs": [],
   "source": [
    "gbpusd = gbpusd[[\"Date\",\"Open\",\"High\",\"Low\",\"Close\", \"Adj Close\"]]"
   ]
  },
  {
   "cell_type": "code",
   "execution_count": 7,
   "metadata": {},
   "outputs": [
    {
     "data": {
      "text/html": [
       "<div>\n",
       "<style scoped>\n",
       "    .dataframe tbody tr th:only-of-type {\n",
       "        vertical-align: middle;\n",
       "    }\n",
       "\n",
       "    .dataframe tbody tr th {\n",
       "        vertical-align: top;\n",
       "    }\n",
       "\n",
       "    .dataframe thead th {\n",
       "        text-align: right;\n",
       "    }\n",
       "</style>\n",
       "<table border=\"1\" class=\"dataframe\">\n",
       "  <thead>\n",
       "    <tr style=\"text-align: right;\">\n",
       "      <th></th>\n",
       "      <th>Date</th>\n",
       "      <th>Open</th>\n",
       "      <th>High</th>\n",
       "      <th>Low</th>\n",
       "      <th>Close</th>\n",
       "      <th>Adj Close</th>\n",
       "    </tr>\n",
       "  </thead>\n",
       "  <tbody>\n",
       "    <tr>\n",
       "      <th>0</th>\n",
       "      <td>2005-01-03</td>\n",
       "      <td>1.919791</td>\n",
       "      <td>1.919791</td>\n",
       "      <td>1.900490</td>\n",
       "      <td>1.904617</td>\n",
       "      <td>1.904617</td>\n",
       "    </tr>\n",
       "    <tr>\n",
       "      <th>1</th>\n",
       "      <td>2005-01-04</td>\n",
       "      <td>1.904617</td>\n",
       "      <td>1.908506</td>\n",
       "      <td>1.878816</td>\n",
       "      <td>1.883594</td>\n",
       "      <td>1.883594</td>\n",
       "    </tr>\n",
       "    <tr>\n",
       "      <th>2</th>\n",
       "      <td>2005-01-05</td>\n",
       "      <td>1.883594</td>\n",
       "      <td>1.889216</td>\n",
       "      <td>1.873712</td>\n",
       "      <td>1.885512</td>\n",
       "      <td>1.885512</td>\n",
       "    </tr>\n",
       "    <tr>\n",
       "      <th>3</th>\n",
       "      <td>2005-01-06</td>\n",
       "      <td>1.885690</td>\n",
       "      <td>1.885690</td>\n",
       "      <td>1.870802</td>\n",
       "      <td>1.876490</td>\n",
       "      <td>1.876490</td>\n",
       "    </tr>\n",
       "    <tr>\n",
       "      <th>4</th>\n",
       "      <td>2005-01-07</td>\n",
       "      <td>1.876595</td>\n",
       "      <td>1.886010</td>\n",
       "      <td>1.865811</td>\n",
       "      <td>1.871293</td>\n",
       "      <td>1.871293</td>\n",
       "    </tr>\n",
       "  </tbody>\n",
       "</table>\n",
       "</div>"
      ],
      "text/plain": [
       "         Date      Open      High       Low     Close  Adj Close\n",
       "0  2005-01-03  1.919791  1.919791  1.900490  1.904617   1.904617\n",
       "1  2005-01-04  1.904617  1.908506  1.878816  1.883594   1.883594\n",
       "2  2005-01-05  1.883594  1.889216  1.873712  1.885512   1.885512\n",
       "3  2005-01-06  1.885690  1.885690  1.870802  1.876490   1.876490\n",
       "4  2005-01-07  1.876595  1.886010  1.865811  1.871293   1.871293"
      ]
     },
     "execution_count": 7,
     "metadata": {},
     "output_type": "execute_result"
    }
   ],
   "source": [
    "gbpusd.head()"
   ]
  },
  {
   "cell_type": "markdown",
   "metadata": {},
   "source": [
    "Checking if there are missing values"
   ]
  },
  {
   "cell_type": "code",
   "execution_count": 8,
   "metadata": {},
   "outputs": [
    {
     "data": {
      "text/plain": [
       "(16, 6)"
      ]
     },
     "execution_count": 8,
     "metadata": {},
     "output_type": "execute_result"
    }
   ],
   "source": [
    "nan_mask = pd.isna(gbpusd).any(axis=1)\n",
    "\n",
    "nan_values_df = gbpusd[nan_mask]\n",
    "nan_values_df.shape"
   ]
  },
  {
   "cell_type": "markdown",
   "metadata": {},
   "source": [
    "Filling missing values with interpolate technique"
   ]
  },
  {
   "cell_type": "code",
   "execution_count": 9,
   "metadata": {},
   "outputs": [],
   "source": [
    "gbpusd= gbpusd.interpolate(option='time')"
   ]
  },
  {
   "cell_type": "code",
   "execution_count": 10,
   "metadata": {},
   "outputs": [
    {
     "name": "stdout",
     "output_type": "stream",
     "text": [
      "<class 'pandas.core.frame.DataFrame'>\n",
      "RangeIndex: 4825 entries, 0 to 4824\n",
      "Data columns (total 6 columns):\n",
      " #   Column     Non-Null Count  Dtype  \n",
      "---  ------     --------------  -----  \n",
      " 0   Date       4825 non-null   object \n",
      " 1   Open       4825 non-null   float64\n",
      " 2   High       4825 non-null   float64\n",
      " 3   Low        4825 non-null   float64\n",
      " 4   Close      4825 non-null   float64\n",
      " 5   Adj Close  4825 non-null   float64\n",
      "dtypes: float64(5), object(1)\n",
      "memory usage: 226.3+ KB\n"
     ]
    }
   ],
   "source": [
    "gbpusd.info()"
   ]
  },
  {
   "cell_type": "markdown",
   "metadata": {},
   "source": [
    "Set Date as index"
   ]
  },
  {
   "cell_type": "code",
   "execution_count": 11,
   "metadata": {},
   "outputs": [],
   "source": [
    "gbpusd.Date = pd.to_datetime(gbpusd.Date)"
   ]
  },
  {
   "cell_type": "code",
   "execution_count": 12,
   "metadata": {},
   "outputs": [],
   "source": [
    "gbpusd = gbpusd.set_index(\"Date\")"
   ]
  },
  {
   "cell_type": "code",
   "execution_count": 13,
   "metadata": {},
   "outputs": [
    {
     "data": {
      "text/plain": [
       "DatetimeIndex(['2005-01-03', '2005-01-04', '2005-01-05', '2005-01-06',\n",
       "               '2005-01-07', '2005-01-10', '2005-01-11', '2005-01-12',\n",
       "               '2005-01-13', '2005-01-14',\n",
       "               ...\n",
       "               '2023-06-19', '2023-06-20', '2023-06-21', '2023-06-22',\n",
       "               '2023-06-23', '2023-06-26', '2023-06-27', '2023-06-28',\n",
       "               '2023-06-29', '2023-06-30'],\n",
       "              dtype='datetime64[ns]', name='Date', length=4825, freq=None)"
      ]
     },
     "execution_count": 13,
     "metadata": {},
     "output_type": "execute_result"
    }
   ],
   "source": [
    "gbpusd.index"
   ]
  },
  {
   "cell_type": "code",
   "execution_count": 14,
   "metadata": {},
   "outputs": [
    {
     "data": {
      "text/html": [
       "<div>\n",
       "<style scoped>\n",
       "    .dataframe tbody tr th:only-of-type {\n",
       "        vertical-align: middle;\n",
       "    }\n",
       "\n",
       "    .dataframe tbody tr th {\n",
       "        vertical-align: top;\n",
       "    }\n",
       "\n",
       "    .dataframe thead th {\n",
       "        text-align: right;\n",
       "    }\n",
       "</style>\n",
       "<table border=\"1\" class=\"dataframe\">\n",
       "  <thead>\n",
       "    <tr style=\"text-align: right;\">\n",
       "      <th></th>\n",
       "      <th>Open</th>\n",
       "      <th>High</th>\n",
       "      <th>Low</th>\n",
       "      <th>Close</th>\n",
       "      <th>Adj Close</th>\n",
       "    </tr>\n",
       "    <tr>\n",
       "      <th>Date</th>\n",
       "      <th></th>\n",
       "      <th></th>\n",
       "      <th></th>\n",
       "      <th></th>\n",
       "      <th></th>\n",
       "    </tr>\n",
       "  </thead>\n",
       "  <tbody>\n",
       "    <tr>\n",
       "      <th>2005-01-03</th>\n",
       "      <td>1.919791</td>\n",
       "      <td>1.919791</td>\n",
       "      <td>1.900490</td>\n",
       "      <td>1.904617</td>\n",
       "      <td>1.904617</td>\n",
       "    </tr>\n",
       "    <tr>\n",
       "      <th>2005-01-04</th>\n",
       "      <td>1.904617</td>\n",
       "      <td>1.908506</td>\n",
       "      <td>1.878816</td>\n",
       "      <td>1.883594</td>\n",
       "      <td>1.883594</td>\n",
       "    </tr>\n",
       "    <tr>\n",
       "      <th>2005-01-05</th>\n",
       "      <td>1.883594</td>\n",
       "      <td>1.889216</td>\n",
       "      <td>1.873712</td>\n",
       "      <td>1.885512</td>\n",
       "      <td>1.885512</td>\n",
       "    </tr>\n",
       "    <tr>\n",
       "      <th>2005-01-06</th>\n",
       "      <td>1.885690</td>\n",
       "      <td>1.885690</td>\n",
       "      <td>1.870802</td>\n",
       "      <td>1.876490</td>\n",
       "      <td>1.876490</td>\n",
       "    </tr>\n",
       "    <tr>\n",
       "      <th>2005-01-07</th>\n",
       "      <td>1.876595</td>\n",
       "      <td>1.886010</td>\n",
       "      <td>1.865811</td>\n",
       "      <td>1.871293</td>\n",
       "      <td>1.871293</td>\n",
       "    </tr>\n",
       "  </tbody>\n",
       "</table>\n",
       "</div>"
      ],
      "text/plain": [
       "                Open      High       Low     Close  Adj Close\n",
       "Date                                                         \n",
       "2005-01-03  1.919791  1.919791  1.900490  1.904617   1.904617\n",
       "2005-01-04  1.904617  1.908506  1.878816  1.883594   1.883594\n",
       "2005-01-05  1.883594  1.889216  1.873712  1.885512   1.885512\n",
       "2005-01-06  1.885690  1.885690  1.870802  1.876490   1.876490\n",
       "2005-01-07  1.876595  1.886010  1.865811  1.871293   1.871293"
      ]
     },
     "execution_count": 14,
     "metadata": {},
     "output_type": "execute_result"
    }
   ],
   "source": [
    "gbpusd.head()"
   ]
  },
  {
   "cell_type": "code",
   "execution_count": 15,
   "metadata": {},
   "outputs": [
    {
     "data": {
      "text/html": [
       "<div>\n",
       "<style scoped>\n",
       "    .dataframe tbody tr th:only-of-type {\n",
       "        vertical-align: middle;\n",
       "    }\n",
       "\n",
       "    .dataframe tbody tr th {\n",
       "        vertical-align: top;\n",
       "    }\n",
       "\n",
       "    .dataframe thead th {\n",
       "        text-align: right;\n",
       "    }\n",
       "</style>\n",
       "<table border=\"1\" class=\"dataframe\">\n",
       "  <thead>\n",
       "    <tr style=\"text-align: right;\">\n",
       "      <th></th>\n",
       "      <th>Open</th>\n",
       "      <th>High</th>\n",
       "      <th>Low</th>\n",
       "      <th>Close</th>\n",
       "      <th>Adj Close</th>\n",
       "    </tr>\n",
       "    <tr>\n",
       "      <th>Date</th>\n",
       "      <th></th>\n",
       "      <th></th>\n",
       "      <th></th>\n",
       "      <th></th>\n",
       "      <th></th>\n",
       "    </tr>\n",
       "  </thead>\n",
       "  <tbody>\n",
       "    <tr>\n",
       "      <th>2023-06-26</th>\n",
       "      <td>1.273253</td>\n",
       "      <td>1.274827</td>\n",
       "      <td>1.268971</td>\n",
       "      <td>1.272961</td>\n",
       "      <td>1.272961</td>\n",
       "    </tr>\n",
       "    <tr>\n",
       "      <th>2023-06-27</th>\n",
       "      <td>1.270923</td>\n",
       "      <td>1.275917</td>\n",
       "      <td>1.270487</td>\n",
       "      <td>1.271197</td>\n",
       "      <td>1.271197</td>\n",
       "    </tr>\n",
       "    <tr>\n",
       "      <th>2023-06-28</th>\n",
       "      <td>1.274454</td>\n",
       "      <td>1.275136</td>\n",
       "      <td>1.260827</td>\n",
       "      <td>1.274470</td>\n",
       "      <td>1.274470</td>\n",
       "    </tr>\n",
       "    <tr>\n",
       "      <th>2023-06-29</th>\n",
       "      <td>1.264127</td>\n",
       "      <td>1.266592</td>\n",
       "      <td>1.259256</td>\n",
       "      <td>1.264254</td>\n",
       "      <td>1.264254</td>\n",
       "    </tr>\n",
       "    <tr>\n",
       "      <th>2023-06-30</th>\n",
       "      <td>1.261495</td>\n",
       "      <td>1.272621</td>\n",
       "      <td>1.260144</td>\n",
       "      <td>1.261464</td>\n",
       "      <td>1.261464</td>\n",
       "    </tr>\n",
       "  </tbody>\n",
       "</table>\n",
       "</div>"
      ],
      "text/plain": [
       "                Open      High       Low     Close  Adj Close\n",
       "Date                                                         \n",
       "2023-06-26  1.273253  1.274827  1.268971  1.272961   1.272961\n",
       "2023-06-27  1.270923  1.275917  1.270487  1.271197   1.271197\n",
       "2023-06-28  1.274454  1.275136  1.260827  1.274470   1.274470\n",
       "2023-06-29  1.264127  1.266592  1.259256  1.264254   1.264254\n",
       "2023-06-30  1.261495  1.272621  1.260144  1.261464   1.261464"
      ]
     },
     "execution_count": 15,
     "metadata": {},
     "output_type": "execute_result"
    }
   ],
   "source": [
    "gbpusd.tail()"
   ]
  },
  {
   "cell_type": "markdown",
   "metadata": {},
   "source": [
    "Checking if there are missing dates"
   ]
  },
  {
   "cell_type": "code",
   "execution_count": 16,
   "metadata": {},
   "outputs": [],
   "source": [
    "missing_dates  = pd.date_range(\n",
    "  start=\"2005-02-22\", end=\"2023-06-30\").difference(gbpusd.index)"
   ]
  },
  {
   "cell_type": "code",
   "execution_count": 17,
   "metadata": {},
   "outputs": [
    {
     "data": {
      "text/plain": [
       "DatetimeIndex(['2005-02-26', '2005-02-27', '2005-03-05', '2005-03-06',\n",
       "               '2005-03-12', '2005-03-13', '2005-03-19', '2005-03-20',\n",
       "               '2005-03-26', '2005-03-27',\n",
       "               ...\n",
       "               '2023-05-27', '2023-05-28', '2023-06-03', '2023-06-04',\n",
       "               '2023-06-10', '2023-06-11', '2023-06-17', '2023-06-18',\n",
       "               '2023-06-24', '2023-06-25'],\n",
       "              dtype='datetime64[ns]', length=1914, freq=None)"
      ]
     },
     "execution_count": 17,
     "metadata": {},
     "output_type": "execute_result"
    }
   ],
   "source": [
    "missing_dates"
   ]
  },
  {
   "cell_type": "markdown",
   "metadata": {},
   "source": [
    "Filling the missing dates"
   ]
  },
  {
   "cell_type": "code",
   "execution_count": 18,
   "metadata": {},
   "outputs": [],
   "source": [
    "complete_date_range =  pd.date_range(start='2005-01-03', end='2023-06-30', freq='D')"
   ]
  },
  {
   "cell_type": "code",
   "execution_count": 19,
   "metadata": {},
   "outputs": [],
   "source": [
    "complete_forex_data = pd.DataFrame(index=complete_date_range)"
   ]
  },
  {
   "cell_type": "code",
   "execution_count": 20,
   "metadata": {},
   "outputs": [],
   "source": [
    "complete_forex_data = complete_forex_data.merge(gbpusd, left_index=True, right_index=True, how='left')"
   ]
  },
  {
   "cell_type": "code",
   "execution_count": 21,
   "metadata": {},
   "outputs": [
    {
     "data": {
      "text/html": [
       "<div>\n",
       "<style scoped>\n",
       "    .dataframe tbody tr th:only-of-type {\n",
       "        vertical-align: middle;\n",
       "    }\n",
       "\n",
       "    .dataframe tbody tr th {\n",
       "        vertical-align: top;\n",
       "    }\n",
       "\n",
       "    .dataframe thead th {\n",
       "        text-align: right;\n",
       "    }\n",
       "</style>\n",
       "<table border=\"1\" class=\"dataframe\">\n",
       "  <thead>\n",
       "    <tr style=\"text-align: right;\">\n",
       "      <th></th>\n",
       "      <th>Open</th>\n",
       "      <th>High</th>\n",
       "      <th>Low</th>\n",
       "      <th>Close</th>\n",
       "      <th>Adj Close</th>\n",
       "    </tr>\n",
       "  </thead>\n",
       "  <tbody>\n",
       "    <tr>\n",
       "      <th>2005-01-03</th>\n",
       "      <td>1.919791</td>\n",
       "      <td>1.919791</td>\n",
       "      <td>1.900490</td>\n",
       "      <td>1.904617</td>\n",
       "      <td>1.904617</td>\n",
       "    </tr>\n",
       "    <tr>\n",
       "      <th>2005-01-04</th>\n",
       "      <td>1.904617</td>\n",
       "      <td>1.908506</td>\n",
       "      <td>1.878816</td>\n",
       "      <td>1.883594</td>\n",
       "      <td>1.883594</td>\n",
       "    </tr>\n",
       "    <tr>\n",
       "      <th>2005-01-05</th>\n",
       "      <td>1.883594</td>\n",
       "      <td>1.889216</td>\n",
       "      <td>1.873712</td>\n",
       "      <td>1.885512</td>\n",
       "      <td>1.885512</td>\n",
       "    </tr>\n",
       "    <tr>\n",
       "      <th>2005-01-06</th>\n",
       "      <td>1.885690</td>\n",
       "      <td>1.885690</td>\n",
       "      <td>1.870802</td>\n",
       "      <td>1.876490</td>\n",
       "      <td>1.876490</td>\n",
       "    </tr>\n",
       "    <tr>\n",
       "      <th>2005-01-07</th>\n",
       "      <td>1.876595</td>\n",
       "      <td>1.886010</td>\n",
       "      <td>1.865811</td>\n",
       "      <td>1.871293</td>\n",
       "      <td>1.871293</td>\n",
       "    </tr>\n",
       "    <tr>\n",
       "      <th>2005-01-08</th>\n",
       "      <td>NaN</td>\n",
       "      <td>NaN</td>\n",
       "      <td>NaN</td>\n",
       "      <td>NaN</td>\n",
       "      <td>NaN</td>\n",
       "    </tr>\n",
       "    <tr>\n",
       "      <th>2005-01-09</th>\n",
       "      <td>NaN</td>\n",
       "      <td>NaN</td>\n",
       "      <td>NaN</td>\n",
       "      <td>NaN</td>\n",
       "      <td>NaN</td>\n",
       "    </tr>\n",
       "    <tr>\n",
       "      <th>2005-01-10</th>\n",
       "      <td>1.871888</td>\n",
       "      <td>1.879311</td>\n",
       "      <td>1.871398</td>\n",
       "      <td>1.876912</td>\n",
       "      <td>1.876912</td>\n",
       "    </tr>\n",
       "    <tr>\n",
       "      <th>2005-01-11</th>\n",
       "      <td>1.877405</td>\n",
       "      <td>1.882317</td>\n",
       "      <td>1.875785</td>\n",
       "      <td>1.878605</td>\n",
       "      <td>1.878605</td>\n",
       "    </tr>\n",
       "    <tr>\n",
       "      <th>2005-01-12</th>\n",
       "      <td>1.878111</td>\n",
       "      <td>1.893903</td>\n",
       "      <td>1.870487</td>\n",
       "      <td>1.890716</td>\n",
       "      <td>1.890716</td>\n",
       "    </tr>\n",
       "  </tbody>\n",
       "</table>\n",
       "</div>"
      ],
      "text/plain": [
       "                Open      High       Low     Close  Adj Close\n",
       "2005-01-03  1.919791  1.919791  1.900490  1.904617   1.904617\n",
       "2005-01-04  1.904617  1.908506  1.878816  1.883594   1.883594\n",
       "2005-01-05  1.883594  1.889216  1.873712  1.885512   1.885512\n",
       "2005-01-06  1.885690  1.885690  1.870802  1.876490   1.876490\n",
       "2005-01-07  1.876595  1.886010  1.865811  1.871293   1.871293\n",
       "2005-01-08       NaN       NaN       NaN       NaN        NaN\n",
       "2005-01-09       NaN       NaN       NaN       NaN        NaN\n",
       "2005-01-10  1.871888  1.879311  1.871398  1.876912   1.876912\n",
       "2005-01-11  1.877405  1.882317  1.875785  1.878605   1.878605\n",
       "2005-01-12  1.878111  1.893903  1.870487  1.890716   1.890716"
      ]
     },
     "execution_count": 21,
     "metadata": {},
     "output_type": "execute_result"
    }
   ],
   "source": [
    "complete_forex_data.head(10)"
   ]
  },
  {
   "cell_type": "code",
   "execution_count": 22,
   "metadata": {},
   "outputs": [],
   "source": [
    "# Reset the index and rename the 'forex_rate' column if needed\n",
    "complete_forex_data.reset_index(inplace=True)\n",
    "complete_forex_data.rename(columns={'index': 'Date'}, inplace=True)"
   ]
  },
  {
   "cell_type": "code",
   "execution_count": 23,
   "metadata": {},
   "outputs": [
    {
     "data": {
      "text/html": [
       "<div>\n",
       "<style scoped>\n",
       "    .dataframe tbody tr th:only-of-type {\n",
       "        vertical-align: middle;\n",
       "    }\n",
       "\n",
       "    .dataframe tbody tr th {\n",
       "        vertical-align: top;\n",
       "    }\n",
       "\n",
       "    .dataframe thead th {\n",
       "        text-align: right;\n",
       "    }\n",
       "</style>\n",
       "<table border=\"1\" class=\"dataframe\">\n",
       "  <thead>\n",
       "    <tr style=\"text-align: right;\">\n",
       "      <th></th>\n",
       "      <th>Date</th>\n",
       "      <th>Open</th>\n",
       "      <th>High</th>\n",
       "      <th>Low</th>\n",
       "      <th>Close</th>\n",
       "      <th>Adj Close</th>\n",
       "    </tr>\n",
       "  </thead>\n",
       "  <tbody>\n",
       "    <tr>\n",
       "      <th>0</th>\n",
       "      <td>2005-01-03</td>\n",
       "      <td>1.919791</td>\n",
       "      <td>1.919791</td>\n",
       "      <td>1.900490</td>\n",
       "      <td>1.904617</td>\n",
       "      <td>1.904617</td>\n",
       "    </tr>\n",
       "    <tr>\n",
       "      <th>1</th>\n",
       "      <td>2005-01-04</td>\n",
       "      <td>1.904617</td>\n",
       "      <td>1.908506</td>\n",
       "      <td>1.878816</td>\n",
       "      <td>1.883594</td>\n",
       "      <td>1.883594</td>\n",
       "    </tr>\n",
       "    <tr>\n",
       "      <th>2</th>\n",
       "      <td>2005-01-05</td>\n",
       "      <td>1.883594</td>\n",
       "      <td>1.889216</td>\n",
       "      <td>1.873712</td>\n",
       "      <td>1.885512</td>\n",
       "      <td>1.885512</td>\n",
       "    </tr>\n",
       "    <tr>\n",
       "      <th>3</th>\n",
       "      <td>2005-01-06</td>\n",
       "      <td>1.885690</td>\n",
       "      <td>1.885690</td>\n",
       "      <td>1.870802</td>\n",
       "      <td>1.876490</td>\n",
       "      <td>1.876490</td>\n",
       "    </tr>\n",
       "    <tr>\n",
       "      <th>4</th>\n",
       "      <td>2005-01-07</td>\n",
       "      <td>1.876595</td>\n",
       "      <td>1.886010</td>\n",
       "      <td>1.865811</td>\n",
       "      <td>1.871293</td>\n",
       "      <td>1.871293</td>\n",
       "    </tr>\n",
       "  </tbody>\n",
       "</table>\n",
       "</div>"
      ],
      "text/plain": [
       "        Date      Open      High       Low     Close  Adj Close\n",
       "0 2005-01-03  1.919791  1.919791  1.900490  1.904617   1.904617\n",
       "1 2005-01-04  1.904617  1.908506  1.878816  1.883594   1.883594\n",
       "2 2005-01-05  1.883594  1.889216  1.873712  1.885512   1.885512\n",
       "3 2005-01-06  1.885690  1.885690  1.870802  1.876490   1.876490\n",
       "4 2005-01-07  1.876595  1.886010  1.865811  1.871293   1.871293"
      ]
     },
     "execution_count": 23,
     "metadata": {},
     "output_type": "execute_result"
    }
   ],
   "source": [
    "complete_forex_data.head()"
   ]
  },
  {
   "cell_type": "code",
   "execution_count": 24,
   "metadata": {},
   "outputs": [],
   "source": [
    "complete_forex_data.set_index('Date', inplace=True)"
   ]
  },
  {
   "cell_type": "code",
   "execution_count": 25,
   "metadata": {},
   "outputs": [
    {
     "data": {
      "text/plain": [
       "DatetimeIndex(['2005-01-03', '2005-01-04', '2005-01-05', '2005-01-06',\n",
       "               '2005-01-07', '2005-01-08', '2005-01-09', '2005-01-10',\n",
       "               '2005-01-11', '2005-01-12',\n",
       "               ...\n",
       "               '2023-06-21', '2023-06-22', '2023-06-23', '2023-06-24',\n",
       "               '2023-06-25', '2023-06-26', '2023-06-27', '2023-06-28',\n",
       "               '2023-06-29', '2023-06-30'],\n",
       "              dtype='datetime64[ns]', name='Date', length=6753, freq=None)"
      ]
     },
     "execution_count": 25,
     "metadata": {},
     "output_type": "execute_result"
    }
   ],
   "source": [
    "complete_forex_data.index"
   ]
  },
  {
   "cell_type": "markdown",
   "metadata": {},
   "source": [
    "The new dates have no values. Saturdays and Holidays take the value of the previos date (backward filling). Sundays take the values of the next date (forward filling)."
   ]
  },
  {
   "cell_type": "code",
   "execution_count": 26,
   "metadata": {},
   "outputs": [],
   "source": [
    "\n",
    "# Forward fill (ffill) for Saturdays\n",
    "complete_forex_data = complete_forex_data.fillna(method='ffill', limit=1)\n",
    "\n",
    "# Backward fill (bfill) for Sundays\n",
    "complete_forex_data = complete_forex_data.fillna(method='bfill', limit=1)\n"
   ]
  },
  {
   "cell_type": "code",
   "execution_count": 27,
   "metadata": {},
   "outputs": [
    {
     "data": {
      "text/html": [
       "<div>\n",
       "<style scoped>\n",
       "    .dataframe tbody tr th:only-of-type {\n",
       "        vertical-align: middle;\n",
       "    }\n",
       "\n",
       "    .dataframe tbody tr th {\n",
       "        vertical-align: top;\n",
       "    }\n",
       "\n",
       "    .dataframe thead th {\n",
       "        text-align: right;\n",
       "    }\n",
       "</style>\n",
       "<table border=\"1\" class=\"dataframe\">\n",
       "  <thead>\n",
       "    <tr style=\"text-align: right;\">\n",
       "      <th></th>\n",
       "      <th>Open</th>\n",
       "      <th>High</th>\n",
       "      <th>Low</th>\n",
       "      <th>Close</th>\n",
       "      <th>Adj Close</th>\n",
       "    </tr>\n",
       "    <tr>\n",
       "      <th>Date</th>\n",
       "      <th></th>\n",
       "      <th></th>\n",
       "      <th></th>\n",
       "      <th></th>\n",
       "      <th></th>\n",
       "    </tr>\n",
       "  </thead>\n",
       "  <tbody>\n",
       "    <tr>\n",
       "      <th>2005-01-03</th>\n",
       "      <td>1.919791</td>\n",
       "      <td>1.919791</td>\n",
       "      <td>1.900490</td>\n",
       "      <td>1.904617</td>\n",
       "      <td>1.904617</td>\n",
       "    </tr>\n",
       "    <tr>\n",
       "      <th>2005-01-04</th>\n",
       "      <td>1.904617</td>\n",
       "      <td>1.908506</td>\n",
       "      <td>1.878816</td>\n",
       "      <td>1.883594</td>\n",
       "      <td>1.883594</td>\n",
       "    </tr>\n",
       "    <tr>\n",
       "      <th>2005-01-05</th>\n",
       "      <td>1.883594</td>\n",
       "      <td>1.889216</td>\n",
       "      <td>1.873712</td>\n",
       "      <td>1.885512</td>\n",
       "      <td>1.885512</td>\n",
       "    </tr>\n",
       "    <tr>\n",
       "      <th>2005-01-06</th>\n",
       "      <td>1.885690</td>\n",
       "      <td>1.885690</td>\n",
       "      <td>1.870802</td>\n",
       "      <td>1.876490</td>\n",
       "      <td>1.876490</td>\n",
       "    </tr>\n",
       "    <tr>\n",
       "      <th>2005-01-07</th>\n",
       "      <td>1.876595</td>\n",
       "      <td>1.886010</td>\n",
       "      <td>1.865811</td>\n",
       "      <td>1.871293</td>\n",
       "      <td>1.871293</td>\n",
       "    </tr>\n",
       "    <tr>\n",
       "      <th>2005-01-08</th>\n",
       "      <td>1.876595</td>\n",
       "      <td>1.886010</td>\n",
       "      <td>1.865811</td>\n",
       "      <td>1.871293</td>\n",
       "      <td>1.871293</td>\n",
       "    </tr>\n",
       "    <tr>\n",
       "      <th>2005-01-09</th>\n",
       "      <td>1.871888</td>\n",
       "      <td>1.879311</td>\n",
       "      <td>1.871398</td>\n",
       "      <td>1.876912</td>\n",
       "      <td>1.876912</td>\n",
       "    </tr>\n",
       "    <tr>\n",
       "      <th>2005-01-10</th>\n",
       "      <td>1.871888</td>\n",
       "      <td>1.879311</td>\n",
       "      <td>1.871398</td>\n",
       "      <td>1.876912</td>\n",
       "      <td>1.876912</td>\n",
       "    </tr>\n",
       "    <tr>\n",
       "      <th>2005-01-11</th>\n",
       "      <td>1.877405</td>\n",
       "      <td>1.882317</td>\n",
       "      <td>1.875785</td>\n",
       "      <td>1.878605</td>\n",
       "      <td>1.878605</td>\n",
       "    </tr>\n",
       "    <tr>\n",
       "      <th>2005-01-12</th>\n",
       "      <td>1.878111</td>\n",
       "      <td>1.893903</td>\n",
       "      <td>1.870487</td>\n",
       "      <td>1.890716</td>\n",
       "      <td>1.890716</td>\n",
       "    </tr>\n",
       "  </tbody>\n",
       "</table>\n",
       "</div>"
      ],
      "text/plain": [
       "                Open      High       Low     Close  Adj Close\n",
       "Date                                                         \n",
       "2005-01-03  1.919791  1.919791  1.900490  1.904617   1.904617\n",
       "2005-01-04  1.904617  1.908506  1.878816  1.883594   1.883594\n",
       "2005-01-05  1.883594  1.889216  1.873712  1.885512   1.885512\n",
       "2005-01-06  1.885690  1.885690  1.870802  1.876490   1.876490\n",
       "2005-01-07  1.876595  1.886010  1.865811  1.871293   1.871293\n",
       "2005-01-08  1.876595  1.886010  1.865811  1.871293   1.871293\n",
       "2005-01-09  1.871888  1.879311  1.871398  1.876912   1.876912\n",
       "2005-01-10  1.871888  1.879311  1.871398  1.876912   1.876912\n",
       "2005-01-11  1.877405  1.882317  1.875785  1.878605   1.878605\n",
       "2005-01-12  1.878111  1.893903  1.870487  1.890716   1.890716"
      ]
     },
     "execution_count": 27,
     "metadata": {},
     "output_type": "execute_result"
    }
   ],
   "source": [
    "complete_forex_data.head(10)"
   ]
  },
  {
   "cell_type": "markdown",
   "metadata": {},
   "source": [
    "Checking for missing values"
   ]
  },
  {
   "cell_type": "code",
   "execution_count": 28,
   "metadata": {},
   "outputs": [
    {
     "data": {
      "text/plain": [
       "(0, 5)"
      ]
     },
     "execution_count": 28,
     "metadata": {},
     "output_type": "execute_result"
    }
   ],
   "source": [
    "nan_mask = pd.isna(complete_forex_data).any(axis=1)\n",
    "\n",
    "nan_values_df = complete_forex_data[nan_mask]\n",
    "nan_values_df.shape"
   ]
  },
  {
   "cell_type": "code",
   "execution_count": 29,
   "metadata": {},
   "outputs": [],
   "source": [
    "complete_forex_data.to_csv(\"prepared_Forex_GBPUSD.csv\", index=\"None\")"
   ]
  }
 ],
 "metadata": {
  "kernelspec": {
   "display_name": "Python 3",
   "language": "python",
   "name": "python3"
  },
  "language_info": {
   "codemirror_mode": {
    "name": "ipython",
    "version": 3
   },
   "file_extension": ".py",
   "mimetype": "text/x-python",
   "name": "python",
   "nbconvert_exporter": "python",
   "pygments_lexer": "ipython3",
   "version": "3.11.0"
  },
  "orig_nbformat": 4
 },
 "nbformat": 4,
 "nbformat_minor": 2
}
